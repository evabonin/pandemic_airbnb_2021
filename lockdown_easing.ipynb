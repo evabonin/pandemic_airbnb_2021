{
 "cells": [
  {
   "cell_type": "markdown",
   "id": "55b33a89",
   "metadata": {},
   "source": [
    "# 1) Background\n",
    "Did the number, structure and price of Air B'n'B listings for London change in response to easing lockdown measures in 2021?\n",
    "## UK lockdown measures in 2021\n",
    "Up to June 2021:\n",
    "https://www.instituteforgovernment.org.uk/charts/uk-government-coronavirus-lockdowns\n",
    "\n",
    "## Hypotheses\n",
    "Stricter lockdown measures may affect host and guest behaviour. In particular, it may affect\n",
    "- The number of listings (hypothesis: fewer)\n",
    "- The type of listings (hypothesis: increase in prpoportion of listings offering whole place vs shared)\n",
    "- The price (hypothesis: increase in price to reflect additional cleaning and security costs)\n",
    "[might be better to phrase this the other way around, as lockdown measures were easing from January - July.]\n",
    "\n",
    "# Method\n",
    "## Data\n",
    "Comparison of number of listings, type of listing and price of listing [does price need to be adjusted for something, e.g. price per person?] for January 2021 and July 2021. Potentially extend to time series analysis covering January - July [no data available for May].\n",
    "## Analysis\n",
    "- Categorising lockdown measures into \"milder\" and \"stronger\" based on whether they are easing or tightening [based on graph referenced above].\n",
    "(- Summary statistics: counts, means, medians, measures of dispersion) [less interested in this so doing this later - but good to do for sense check etc.]\n",
    "- Graphs: plotting stats against level of restrictions [still thinking about the best way of doing this]\n",
    "\n",
    "## Handling missing data\n",
    "Add."
   ]
  },
  {
   "cell_type": "markdown",
   "id": "7cb1219f",
   "metadata": {},
   "source": [
    "# 2) Set up"
   ]
  },
  {
   "cell_type": "markdown",
   "id": "c0cd8433",
   "metadata": {},
   "source": [
    "## Installing packages"
   ]
  },
  {
   "cell_type": "code",
   "execution_count": 275,
   "id": "49eea1d6",
   "metadata": {},
   "outputs": [],
   "source": [
    "#%pip install missingno"
   ]
  },
  {
   "cell_type": "markdown",
   "id": "8f23c1b2",
   "metadata": {},
   "source": [
    "## Loading packages"
   ]
  },
  {
   "cell_type": "code",
   "execution_count": 276,
   "id": "7de70009",
   "metadata": {},
   "outputs": [],
   "source": [
    "import numpy as np\n",
    "import pandas as pd\n",
    "#import pandas_profiling\n",
    "from matplotlib import pyplot as plt\n",
    "import seaborn as sns\n",
    "\n",
    "#package for visualising missing data\n",
    "import missingno as msno\n",
    "\n",
    "\n",
    "from sklearn.preprocessing import LabelEncoder"
   ]
  },
  {
   "cell_type": "markdown",
   "id": "c9e79102",
   "metadata": {},
   "source": [
    "## Loading Air BnB data\n"
   ]
  },
  {
   "cell_type": "code",
   "execution_count": 277,
   "id": "b3a623c2",
   "metadata": {},
   "outputs": [],
   "source": [
    "# as temporary dfs initially as will be dropping vars later\n",
    "# January\n",
    "temp_l1 = pd.read_csv('data/listings_1.csv', delimiter=',')\n",
    "# February etc.\n",
    "temp_l2 = pd.read_csv('data/listings_2.csv', delimiter=',')\n",
    "temp_l3 = pd.read_csv('data/listings_3.csv', delimiter=',')\n",
    "temp_l4 = pd.read_csv('data/listings_4.csv', delimiter=',')\n",
    "# Data for May not available \n",
    "temp_l6 = pd.read_csv('data/listings_6.csv', delimiter=',')\n",
    "temp_l7 = pd.read_csv('data/listings_7.csv', delimiter=',')"
   ]
  },
  {
   "cell_type": "markdown",
   "id": "03cbd2e2",
   "metadata": {},
   "source": []
  },
  {
   "cell_type": "code",
   "execution_count": 278,
   "id": "09cebe42",
   "metadata": {},
   "outputs": [
    {
     "name": "stdout",
     "output_type": "stream",
     "text": [
      "<class 'pandas.core.frame.DataFrame'>\n",
      "RangeIndex: 77346 entries, 0 to 77345\n",
      "Data columns (total 74 columns):\n",
      " #   Column                                        Non-Null Count  Dtype  \n",
      "---  ------                                        --------------  -----  \n",
      " 0   id                                            77346 non-null  int64  \n",
      " 1   listing_url                                   77346 non-null  object \n",
      " 2   scrape_id                                     77346 non-null  int64  \n",
      " 3   last_scraped                                  77346 non-null  object \n",
      " 4   name                                          77322 non-null  object \n",
      " 5   description                                   74208 non-null  object \n",
      " 6   neighborhood_overview                         47456 non-null  object \n",
      " 7   picture_url                                   77346 non-null  object \n",
      " 8   host_id                                       77346 non-null  int64  \n",
      " 9   host_url                                      77346 non-null  object \n",
      " 10  host_name                                     77307 non-null  object \n",
      " 11  host_since                                    77307 non-null  object \n",
      " 12  host_location                                 77125 non-null  object \n",
      " 13  host_about                                    43115 non-null  object \n",
      " 14  host_response_time                            36299 non-null  object \n",
      " 15  host_response_rate                            36299 non-null  object \n",
      " 16  host_acceptance_rate                          44711 non-null  object \n",
      " 17  host_is_superhost                             77307 non-null  object \n",
      " 18  host_thumbnail_url                            77307 non-null  object \n",
      " 19  host_picture_url                              77307 non-null  object \n",
      " 20  host_neighbourhood                            58672 non-null  object \n",
      " 21  host_listings_count                           77307 non-null  float64\n",
      " 22  host_total_listings_count                     77307 non-null  float64\n",
      " 23  host_verifications                            77346 non-null  object \n",
      " 24  host_has_profile_pic                          77307 non-null  object \n",
      " 25  host_identity_verified                        77307 non-null  object \n",
      " 26  neighbourhood                                 47457 non-null  object \n",
      " 27  neighbourhood_cleansed                        77346 non-null  object \n",
      " 28  neighbourhood_group_cleansed                  0 non-null      float64\n",
      " 29  latitude                                      77346 non-null  float64\n",
      " 30  longitude                                     77346 non-null  float64\n",
      " 31  property_type                                 77346 non-null  object \n",
      " 32  room_type                                     77346 non-null  object \n",
      " 33  accommodates                                  77346 non-null  int64  \n",
      " 34  bathrooms                                     0 non-null      float64\n",
      " 35  bathrooms_text                                77162 non-null  object \n",
      " 36  bedrooms                                      72458 non-null  float64\n",
      " 37  beds                                          76165 non-null  float64\n",
      " 38  amenities                                     77346 non-null  object \n",
      " 39  price                                         77346 non-null  object \n",
      " 40  minimum_nights                                77346 non-null  int64  \n",
      " 41  maximum_nights                                77346 non-null  int64  \n",
      " 42  minimum_minimum_nights                        77343 non-null  float64\n",
      " 43  maximum_minimum_nights                        77343 non-null  float64\n",
      " 44  minimum_maximum_nights                        77343 non-null  float64\n",
      " 45  maximum_maximum_nights                        77343 non-null  float64\n",
      " 46  minimum_nights_avg_ntm                        77343 non-null  float64\n",
      " 47  maximum_nights_avg_ntm                        77343 non-null  float64\n",
      " 48  calendar_updated                              0 non-null      float64\n",
      " 49  has_availability                              77346 non-null  object \n",
      " 50  availability_30                               77346 non-null  int64  \n",
      " 51  availability_60                               77346 non-null  int64  \n",
      " 52  availability_90                               77346 non-null  int64  \n",
      " 53  availability_365                              77346 non-null  int64  \n",
      " 54  calendar_last_scraped                         77346 non-null  object \n",
      " 55  number_of_reviews                             77346 non-null  int64  \n",
      " 56  number_of_reviews_ltm                         77346 non-null  int64  \n",
      " 57  number_of_reviews_l30d                        77346 non-null  int64  \n",
      " 58  first_review                                  54906 non-null  object \n",
      " 59  last_review                                   54906 non-null  object \n",
      " 60  review_scores_rating                          53159 non-null  float64\n",
      " 61  review_scores_accuracy                        53097 non-null  float64\n",
      " 62  review_scores_cleanliness                     53106 non-null  float64\n",
      " 63  review_scores_checkin                         53050 non-null  float64\n",
      " 64  review_scores_communication                   53099 non-null  float64\n",
      " 65  review_scores_location                        53051 non-null  float64\n",
      " 66  review_scores_value                           53050 non-null  float64\n",
      " 67  license                                       0 non-null      float64\n",
      " 68  instant_bookable                              77346 non-null  object \n",
      " 69  calculated_host_listings_count                77346 non-null  int64  \n",
      " 70  calculated_host_listings_count_entire_homes   77346 non-null  int64  \n",
      " 71  calculated_host_listings_count_private_rooms  77346 non-null  int64  \n",
      " 72  calculated_host_listings_count_shared_rooms   77346 non-null  int64  \n",
      " 73  reviews_per_month                             54906 non-null  float64\n",
      "dtypes: float64(24), int64(17), object(33)\n",
      "memory usage: 43.7+ MB\n"
     ]
    }
   ],
   "source": [
    "temp_l1.info(verbose=True)"
   ]
  },
  {
   "cell_type": "code",
   "execution_count": null,
   "id": "30d70f42",
   "metadata": {},
   "outputs": [],
   "source": []
  },
  {
   "cell_type": "markdown",
   "id": "110c1e51",
   "metadata": {},
   "source": [
    "Variables of interest for later:\n",
    "\n",
    "\n",
    "calculated_host_listings_count \n",
    "calculated_host_listings_count_entire_homes\n",
    "calculated_host_listings_count_private_rooms \n",
    "calculated_host_listings_count_shared_rooms"
   ]
  },
  {
   "cell_type": "markdown",
   "id": "8fd63b7b",
   "metadata": {},
   "source": [
    "# 2) Data preparation\n",
    "Looking at January and July datasets to start with, can extend this later."
   ]
  },
  {
   "cell_type": "markdown",
   "id": "428737ce",
   "metadata": {},
   "source": [
    "## Reducing number of vars in dataset\n",
    "\n",
    "Keeping only variables that seems relevant to the questions at hand"
   ]
  },
  {
   "cell_type": "code",
   "execution_count": 279,
   "id": "a17c2582",
   "metadata": {},
   "outputs": [
    {
     "name": "stdout",
     "output_type": "stream",
     "text": [
      "<class 'pandas.core.frame.DataFrame'>\n",
      "RangeIndex: 77346 entries, 0 to 77345\n",
      "Data columns (total 19 columns):\n",
      " #   Column                       Non-Null Count  Dtype  \n",
      "---  ------                       --------------  -----  \n",
      " 0   property_type                77346 non-null  object \n",
      " 1   room_type                    77346 non-null  object \n",
      " 2   accommodates                 77346 non-null  int64  \n",
      " 3   bathrooms                    0 non-null      float64\n",
      " 4   bedrooms                     72458 non-null  float64\n",
      " 5   beds                         76165 non-null  float64\n",
      " 6   amenities                    77346 non-null  object \n",
      " 7   price                        77346 non-null  object \n",
      " 8   minimum_nights               77346 non-null  int64  \n",
      " 9   maximum_nights               77346 non-null  int64  \n",
      " 10  has_availability             77346 non-null  object \n",
      " 11  review_scores_accuracy       53097 non-null  float64\n",
      " 12  review_scores_cleanliness    53106 non-null  float64\n",
      " 13  review_scores_checkin        53050 non-null  float64\n",
      " 14  review_scores_communication  53099 non-null  float64\n",
      " 15  review_scores_location       53051 non-null  float64\n",
      " 16  review_scores_value          53050 non-null  float64\n",
      " 17  reviews_per_month            54906 non-null  float64\n",
      " 18  month                        77346 non-null  object \n",
      "dtypes: float64(10), int64(3), object(6)\n",
      "memory usage: 11.2+ MB\n"
     ]
    }
   ],
   "source": [
    "# Various attempts at either dropping ranges of columns, or keeping ranges of columns, but not sure how to do that\n",
    "\n",
    "#cols = [[:, 0:30], 35, 48, 54:59, 67]\n",
    "#cols = [0:30,35, 48, 67]\n",
    "#l1.drop(l1.iloc[:, 0:30],axis=1,inplace=True)\n",
    "#l1.info(verbose=True)\n",
    "#l1 = l1.drop(l1.iloc[:, 54:59],axis=1,inplace=True)\n",
    "#l1.drop(l1.columns[cols],axis=1,inplace=True)\n",
    "\n",
    "\n",
    "# list of variables to keep\n",
    "#keep_vars = ['property_type','room_type','accommodates','bathrooms', 'bedrooms','beds', 'amenities','price','minimum_nights','maximum_nights','has_availability','review_scores_accuracy','review_scores_cleanliness','review_scores_checkin','review_scores_communication','review_scores_location','review_scores_value','calculated_host_listings_count','calculated_host_listings_count_entire_homes','calculated_host_listings_count_private_rooms','calculated_host_listings_count_shared_rooms','reviews_per_month']\n",
    "keep_vars = ['property_type','room_type','accommodates','bathrooms', 'bedrooms','beds', 'amenities','price','minimum_nights','maximum_nights','has_availability','review_scores_accuracy','review_scores_cleanliness','review_scores_checkin','review_scores_communication','review_scores_location','review_scores_value','reviews_per_month']\n",
    "\n",
    "\n",
    "l1 = temp_l1.loc[:, keep_vars]\n",
    "# adding a column to identify the dataset\n",
    "\n",
    "l1['month'] = str(\"January\")\n",
    "\n",
    "l7 = temp_l7.loc[:, keep_vars]\n",
    "l7['month'] = str(\"July\")\n",
    "\n",
    "# How can I add this variable without turning it into an object?\n",
    "\n",
    "l1.info()"
   ]
  },
  {
   "cell_type": "markdown",
   "id": "e979a4e6",
   "metadata": {},
   "source": [
    "## Merging datasets (append)\n"
   ]
  },
  {
   "cell_type": "code",
   "execution_count": 280,
   "id": "8fe130e4",
   "metadata": {},
   "outputs": [
    {
     "name": "stdout",
     "output_type": "stream",
     "text": [
      "0          $89.00\n",
      "1          $40.00\n",
      "2          $75.00\n",
      "3         $307.00\n",
      "4         $150.00\n",
      "           ...   \n",
      "150705    $276.00\n",
      "150706    $117.00\n",
      "150707     $48.00\n",
      "150708     $56.00\n",
      "150709     $32.00\n",
      "Name: price, Length: 150710, dtype: object\n"
     ]
    }
   ],
   "source": [
    "# Leap of faith here that the columns are of the same type in all datasets. Probably need to check this.\n",
    "\n",
    "df = l1.append(l7, ignore_index=True)\n",
    "#print(df.head(5))\n",
    "#print(df.tail(5))\n",
    "print(df['price'])"
   ]
  },
  {
   "cell_type": "code",
   "execution_count": null,
   "id": "1e31db96",
   "metadata": {},
   "outputs": [],
   "source": []
  },
  {
   "cell_type": "code",
   "execution_count": 281,
   "id": "2272180b",
   "metadata": {},
   "outputs": [
    {
     "name": "stdout",
     "output_type": "stream",
     "text": [
      "The final data frame has 150710 rows and 19 columns.\n"
     ]
    }
   ],
   "source": [
    "# Shape of final df\n",
    "\n",
    "print(f\"The final data frame has {df.shape[0]} rows and {df.shape[1]} columns.\")"
   ]
  },
  {
   "cell_type": "code",
   "execution_count": 282,
   "id": "6c7078fb",
   "metadata": {},
   "outputs": [
    {
     "data": {
      "text/html": [
       "<div>\n",
       "<style scoped>\n",
       "    .dataframe tbody tr th:only-of-type {\n",
       "        vertical-align: middle;\n",
       "    }\n",
       "\n",
       "    .dataframe tbody tr th {\n",
       "        vertical-align: top;\n",
       "    }\n",
       "\n",
       "    .dataframe thead th {\n",
       "        text-align: right;\n",
       "    }\n",
       "</style>\n",
       "<table border=\"1\" class=\"dataframe\">\n",
       "  <thead>\n",
       "    <tr style=\"text-align: right;\">\n",
       "      <th></th>\n",
       "      <th>accommodates</th>\n",
       "      <th>bathrooms</th>\n",
       "      <th>bedrooms</th>\n",
       "      <th>beds</th>\n",
       "      <th>minimum_nights</th>\n",
       "      <th>maximum_nights</th>\n",
       "      <th>review_scores_accuracy</th>\n",
       "      <th>review_scores_cleanliness</th>\n",
       "      <th>review_scores_checkin</th>\n",
       "      <th>review_scores_communication</th>\n",
       "      <th>review_scores_location</th>\n",
       "      <th>review_scores_value</th>\n",
       "      <th>reviews_per_month</th>\n",
       "    </tr>\n",
       "  </thead>\n",
       "  <tbody>\n",
       "    <tr>\n",
       "      <th>count</th>\n",
       "      <td>150710.000000</td>\n",
       "      <td>0.0</td>\n",
       "      <td>141170.000000</td>\n",
       "      <td>148308.000000</td>\n",
       "      <td>150710.000000</td>\n",
       "      <td>1.507100e+05</td>\n",
       "      <td>102271.000000</td>\n",
       "      <td>102291.000000</td>\n",
       "      <td>102182.000000</td>\n",
       "      <td>102269.000000</td>\n",
       "      <td>102181.000000</td>\n",
       "      <td>102176.000000</td>\n",
       "      <td>105692.000000</td>\n",
       "    </tr>\n",
       "    <tr>\n",
       "      <th>mean</th>\n",
       "      <td>3.038106</td>\n",
       "      <td>NaN</td>\n",
       "      <td>1.484997</td>\n",
       "      <td>1.696753</td>\n",
       "      <td>5.512222</td>\n",
       "      <td>1.767940e+04</td>\n",
       "      <td>7.219897</td>\n",
       "      <td>7.039637</td>\n",
       "      <td>7.313686</td>\n",
       "      <td>7.332306</td>\n",
       "      <td>7.244244</td>\n",
       "      <td>7.056218</td>\n",
       "      <td>0.613430</td>\n",
       "    </tr>\n",
       "    <tr>\n",
       "      <th>std</th>\n",
       "      <td>1.936590</td>\n",
       "      <td>NaN</td>\n",
       "      <td>0.879192</td>\n",
       "      <td>1.280531</td>\n",
       "      <td>24.399767</td>\n",
       "      <td>3.885942e+06</td>\n",
       "      <td>2.533092</td>\n",
       "      <td>2.514336</td>\n",
       "      <td>2.537662</td>\n",
       "      <td>2.538404</td>\n",
       "      <td>2.500537</td>\n",
       "      <td>2.485248</td>\n",
       "      <td>1.014544</td>\n",
       "    </tr>\n",
       "    <tr>\n",
       "      <th>min</th>\n",
       "      <td>0.000000</td>\n",
       "      <td>NaN</td>\n",
       "      <td>1.000000</td>\n",
       "      <td>0.000000</td>\n",
       "      <td>1.000000</td>\n",
       "      <td>1.000000e+00</td>\n",
       "      <td>0.000000</td>\n",
       "      <td>0.000000</td>\n",
       "      <td>0.000000</td>\n",
       "      <td>0.000000</td>\n",
       "      <td>0.000000</td>\n",
       "      <td>0.000000</td>\n",
       "      <td>0.010000</td>\n",
       "    </tr>\n",
       "    <tr>\n",
       "      <th>25%</th>\n",
       "      <td>2.000000</td>\n",
       "      <td>NaN</td>\n",
       "      <td>1.000000</td>\n",
       "      <td>1.000000</td>\n",
       "      <td>1.000000</td>\n",
       "      <td>3.100000e+01</td>\n",
       "      <td>4.910000</td>\n",
       "      <td>4.820000</td>\n",
       "      <td>4.970000</td>\n",
       "      <td>5.000000</td>\n",
       "      <td>4.890000</td>\n",
       "      <td>4.780000</td>\n",
       "      <td>0.100000</td>\n",
       "    </tr>\n",
       "    <tr>\n",
       "      <th>50%</th>\n",
       "      <td>2.000000</td>\n",
       "      <td>NaN</td>\n",
       "      <td>1.000000</td>\n",
       "      <td>1.000000</td>\n",
       "      <td>2.000000</td>\n",
       "      <td>1.125000e+03</td>\n",
       "      <td>8.000000</td>\n",
       "      <td>7.000000</td>\n",
       "      <td>8.000000</td>\n",
       "      <td>8.000000</td>\n",
       "      <td>8.000000</td>\n",
       "      <td>7.000000</td>\n",
       "      <td>0.300000</td>\n",
       "    </tr>\n",
       "    <tr>\n",
       "      <th>75%</th>\n",
       "      <td>4.000000</td>\n",
       "      <td>NaN</td>\n",
       "      <td>2.000000</td>\n",
       "      <td>2.000000</td>\n",
       "      <td>4.000000</td>\n",
       "      <td>1.125000e+03</td>\n",
       "      <td>10.000000</td>\n",
       "      <td>10.000000</td>\n",
       "      <td>10.000000</td>\n",
       "      <td>10.000000</td>\n",
       "      <td>10.000000</td>\n",
       "      <td>10.000000</td>\n",
       "      <td>0.780000</td>\n",
       "    </tr>\n",
       "    <tr>\n",
       "      <th>max</th>\n",
       "      <td>16.000000</td>\n",
       "      <td>NaN</td>\n",
       "      <td>50.000000</td>\n",
       "      <td>50.000000</td>\n",
       "      <td>1125.000000</td>\n",
       "      <td>1.000000e+09</td>\n",
       "      <td>10.000000</td>\n",
       "      <td>10.000000</td>\n",
       "      <td>10.000000</td>\n",
       "      <td>10.000000</td>\n",
       "      <td>10.000000</td>\n",
       "      <td>10.000000</td>\n",
       "      <td>67.000000</td>\n",
       "    </tr>\n",
       "  </tbody>\n",
       "</table>\n",
       "</div>"
      ],
      "text/plain": [
       "        accommodates  bathrooms       bedrooms           beds  minimum_nights  \\\n",
       "count  150710.000000        0.0  141170.000000  148308.000000   150710.000000   \n",
       "mean        3.038106        NaN       1.484997       1.696753        5.512222   \n",
       "std         1.936590        NaN       0.879192       1.280531       24.399767   \n",
       "min         0.000000        NaN       1.000000       0.000000        1.000000   \n",
       "25%         2.000000        NaN       1.000000       1.000000        1.000000   \n",
       "50%         2.000000        NaN       1.000000       1.000000        2.000000   \n",
       "75%         4.000000        NaN       2.000000       2.000000        4.000000   \n",
       "max        16.000000        NaN      50.000000      50.000000     1125.000000   \n",
       "\n",
       "       maximum_nights  review_scores_accuracy  review_scores_cleanliness  \\\n",
       "count    1.507100e+05           102271.000000              102291.000000   \n",
       "mean     1.767940e+04                7.219897                   7.039637   \n",
       "std      3.885942e+06                2.533092                   2.514336   \n",
       "min      1.000000e+00                0.000000                   0.000000   \n",
       "25%      3.100000e+01                4.910000                   4.820000   \n",
       "50%      1.125000e+03                8.000000                   7.000000   \n",
       "75%      1.125000e+03               10.000000                  10.000000   \n",
       "max      1.000000e+09               10.000000                  10.000000   \n",
       "\n",
       "       review_scores_checkin  review_scores_communication  \\\n",
       "count          102182.000000                102269.000000   \n",
       "mean                7.313686                     7.332306   \n",
       "std                 2.537662                     2.538404   \n",
       "min                 0.000000                     0.000000   \n",
       "25%                 4.970000                     5.000000   \n",
       "50%                 8.000000                     8.000000   \n",
       "75%                10.000000                    10.000000   \n",
       "max                10.000000                    10.000000   \n",
       "\n",
       "       review_scores_location  review_scores_value  reviews_per_month  \n",
       "count           102181.000000        102176.000000      105692.000000  \n",
       "mean                 7.244244             7.056218           0.613430  \n",
       "std                  2.500537             2.485248           1.014544  \n",
       "min                  0.000000             0.000000           0.010000  \n",
       "25%                  4.890000             4.780000           0.100000  \n",
       "50%                  8.000000             7.000000           0.300000  \n",
       "75%                 10.000000            10.000000           0.780000  \n",
       "max                 10.000000            10.000000          67.000000  "
      ]
     },
     "execution_count": 282,
     "metadata": {},
     "output_type": "execute_result"
    }
   ],
   "source": [
    "df.describe()"
   ]
  },
  {
   "cell_type": "markdown",
   "id": "b70af570",
   "metadata": {},
   "source": [
    "### Encoding variables"
   ]
  },
  {
   "cell_type": "markdown",
   "id": "9143c037",
   "metadata": {},
   "source": [
    "Variables that need to be encoded:\n",
    "- property_type\n",
    "- room_type\n",
    "- amenities\n",
    "- price\n",
    "- has_availability\n",
    "- month"
   ]
  },
  {
   "cell_type": "code",
   "execution_count": 283,
   "id": "724a7722",
   "metadata": {},
   "outputs": [
    {
     "data": {
      "text/plain": [
       "0                  Entire apartment\n",
       "1         Private room in apartment\n",
       "2                  Entire apartment\n",
       "3                  Entire apartment\n",
       "4         Private room in townhouse\n",
       "                    ...            \n",
       "150705             Entire apartment\n",
       "150706             Entire apartment\n",
       "150707             Entire apartment\n",
       "150708             Entire apartment\n",
       "150709        Private room in house\n",
       "Name: property_type, Length: 150710, dtype: object"
      ]
     },
     "execution_count": 283,
     "metadata": {},
     "output_type": "execute_result"
    }
   ],
   "source": [
    "# looking at these more closely\n",
    "df['property_type']"
   ]
  },
  {
   "cell_type": "code",
   "execution_count": 284,
   "id": "db613f50",
   "metadata": {},
   "outputs": [
    {
     "data": {
      "text/plain": [
       "0         Entire home/apt\n",
       "1            Private room\n",
       "2         Entire home/apt\n",
       "3         Entire home/apt\n",
       "4            Private room\n",
       "               ...       \n",
       "150705    Entire home/apt\n",
       "150706    Entire home/apt\n",
       "150707    Entire home/apt\n",
       "150708    Entire home/apt\n",
       "150709       Private room\n",
       "Name: room_type, Length: 150710, dtype: object"
      ]
     },
     "execution_count": 284,
     "metadata": {},
     "output_type": "execute_result"
    }
   ],
   "source": [
    "df['room_type']\n",
    "# This seems to be more useful than the variable above. "
   ]
  },
  {
   "cell_type": "code",
   "execution_count": 285,
   "id": "7542a69a",
   "metadata": {},
   "outputs": [],
   "source": [
    "#using room_type instead\n",
    "df = df.drop('property_type', axis = 1)"
   ]
  },
  {
   "cell_type": "code",
   "execution_count": 286,
   "id": "6a2c54db",
   "metadata": {},
   "outputs": [],
   "source": [
    "le = LabelEncoder()\n",
    "#df['property_type'] = le.fit_transform(df.property_type.values)\n",
    "df['room_type'] = le.fit_transform(df.room_type.values)\n",
    "df['has_availability'] = le.fit_transform(df.has_availability.values)\n",
    "df['month'] = le.fit_transform(df.month.values)\n",
    "\n",
    "\n",
    "\n",
    "# Another way of doing the above:\n",
    "#df['room_type_cat'] = df['room_type'].astype(\"category\")\n"
   ]
  },
  {
   "cell_type": "code",
   "execution_count": 287,
   "id": "2e101792",
   "metadata": {},
   "outputs": [],
   "source": [
    "# amenities needs to be coded as several dummies\n",
    "\n",
    "# Initially did this:\n",
    "# Turn into dummies\n",
    "#pd.get_dummies(df['amenities'])\n",
    "\n",
    "# Result shows that this isn't the right thing to do. Other things I've tried (but doesn't address the list issue).\n",
    "\n",
    "\n",
    "\n",
    "# https://stackoverflow.com/questions/29034928/pandas-convert-a-column-of-list-to-dummies\n",
    "\n",
    "#from sklearn.preprocessing import MultiLabelBinarizer\n",
    "#mlb = MultiLabelBinarizer()\n",
    "#s = df['amenities']\n",
    "# df['amenities'] = le.fit_transform(df.amenities.values)\n",
    "\n",
    "\n",
    "# This one probably works, but takes ages and kills the kernel:\n",
    "#pd.get_dummies(df['amenities'].explode()).sum(level=0)\n",
    "\n",
    "# The level keyword is deprecated. Note says to use groupby instead.: \n",
    "#df.sum(level=1) should use df.groupby(level=1).sum()\n",
    "\n",
    "# Leaving this for the moment."
   ]
  },
  {
   "cell_type": "code",
   "execution_count": 288,
   "id": "19443a94",
   "metadata": {},
   "outputs": [],
   "source": [
    "# Finally got this to work, but don't understand why the second line isn't sufficient?\n",
    "\n",
    "# removing the commas\n",
    "df[\"price\"] = [(str(i).replace(\",\", \"\")) for i in df[\"price\"]]\n",
    "# removing dollar sign mainly\n",
    "df.insert(7, \"price_num\", df['price'].str.strip(\"$,' \").astype('float'))"
   ]
  },
  {
   "cell_type": "code",
   "execution_count": null,
   "id": "9f82963a",
   "metadata": {},
   "outputs": [],
   "source": []
  },
  {
   "cell_type": "code",
   "execution_count": 289,
   "id": "f1dc917c",
   "metadata": {},
   "outputs": [],
   "source": [
    "# Dropping old price var\n",
    "df = df.drop('price', axis=1)"
   ]
  },
  {
   "cell_type": "code",
   "execution_count": 290,
   "id": "5dc98119",
   "metadata": {},
   "outputs": [],
   "source": [
    "# Dropping amenities because this needs more work\n",
    "df = df.drop('amenities', axis=1)"
   ]
  },
  {
   "cell_type": "code",
   "execution_count": 291,
   "id": "d4cf37e7",
   "metadata": {},
   "outputs": [
    {
     "name": "stdout",
     "output_type": "stream",
     "text": [
      "<class 'pandas.core.frame.DataFrame'>\n",
      "RangeIndex: 150710 entries, 0 to 150709\n",
      "Data columns (total 17 columns):\n",
      " #   Column                       Non-Null Count   Dtype  \n",
      "---  ------                       --------------   -----  \n",
      " 0   room_type                    150710 non-null  int64  \n",
      " 1   accommodates                 150710 non-null  int64  \n",
      " 2   bathrooms                    0 non-null       float64\n",
      " 3   bedrooms                     141170 non-null  float64\n",
      " 4   beds                         148308 non-null  float64\n",
      " 5   price_num                    150710 non-null  float64\n",
      " 6   minimum_nights               150710 non-null  int64  \n",
      " 7   maximum_nights               150710 non-null  int64  \n",
      " 8   has_availability             150710 non-null  int64  \n",
      " 9   review_scores_accuracy       102271 non-null  float64\n",
      " 10  review_scores_cleanliness    102291 non-null  float64\n",
      " 11  review_scores_checkin        102182 non-null  float64\n",
      " 12  review_scores_communication  102269 non-null  float64\n",
      " 13  review_scores_location       102181 non-null  float64\n",
      " 14  review_scores_value          102176 non-null  float64\n",
      " 15  reviews_per_month            105692 non-null  float64\n",
      " 16  month                        150710 non-null  int64  \n",
      "dtypes: float64(11), int64(6)\n",
      "memory usage: 19.5 MB\n"
     ]
    }
   ],
   "source": [
    "df.info()"
   ]
  },
  {
   "cell_type": "markdown",
   "id": "bb827f1e",
   "metadata": {},
   "source": [
    "## Exploring missing data in the combined df"
   ]
  },
  {
   "cell_type": "code",
   "execution_count": 292,
   "id": "b7c9a2e7",
   "metadata": {},
   "outputs": [
    {
     "name": "stdout",
     "output_type": "stream",
     "text": [
      " Missing values in columns ['bathrooms', 'bedrooms', 'beds', 'review_scores_accuracy', 'review_scores_cleanliness', 'review_scores_checkin', 'review_scores_communication', 'review_scores_location', 'review_scores_value', 'reviews_per_month']\n"
     ]
    }
   ],
   "source": [
    "#Columns with missing values:\n",
    "# saving to list for later use\n",
    "cols_w_missing = list(df.columns[df.isnull().any()])\n",
    "\n",
    "print(f\" Missing values in columns {cols_w_missing}\")\n",
    "\n",
    "# Would be nice to know how to make this look better."
   ]
  },
  {
   "cell_type": "code",
   "execution_count": 293,
   "id": "25967df7",
   "metadata": {},
   "outputs": [
    {
     "data": {
      "text/plain": [
       "<AxesSubplot:>"
      ]
     },
     "execution_count": 293,
     "metadata": {},
     "output_type": "execute_result"
    },
    {
     "data": {
      "image/png": "[encoded data removed]",
      "text/plain": [
       "<Figure size 1800x720 with 3 Axes>"
      ]
     },
     "metadata": {
      "needs_background": "light"
     },
     "output_type": "display_data"
    }
   ],
   "source": [
    "# Bar chart of missing data\n",
    "\n",
    "msno.bar(df)\n",
    "\n",
    "# This looks like there is review data missing for a chunk of cases."
   ]
  },
  {
   "cell_type": "code",
   "execution_count": 294,
   "id": "64d093d0",
   "metadata": {},
   "outputs": [
    {
     "data": {
      "text/plain": [
       "<AxesSubplot:>"
      ]
     },
     "execution_count": 294,
     "metadata": {},
     "output_type": "execute_result"
    },
    {
     "data": {
      "image/png": "[encoded data removed]",
      "text/plain": [
       "<Figure size 1800x720 with 2 Axes>"
      ]
     },
     "metadata": {
      "needs_background": "light"
     },
     "output_type": "display_data"
    }
   ],
   "source": [
    "# Matrix plot to look at location of missing values.\n",
    "\n",
    "msno.matrix(df)"
   ]
  },
  {
   "cell_type": "markdown",
   "id": "d0fef656",
   "metadata": {},
   "source": [
    "* Bathrooms: all missing\n",
    "--> Drop var\n",
    "* Bedrooms: missings scattered throughout\n",
    "* Beds: Only missing a few\n",
    "--> Use 'accommodates' instead?\n",
    "* Review scores: Seem to be missing in rows, for the most part.\n",
    "--> Keep for now and think about whether this will be used in the analysis. Might be worth looking at a subset for reviews. Maybe this is linked to another variable?\n"
   ]
  },
  {
   "cell_type": "code",
   "execution_count": 295,
   "id": "5ebf54c7",
   "metadata": {},
   "outputs": [
    {
     "name": "stdout",
     "output_type": "stream",
     "text": [
      "bathrooms                      150710\n",
      "bedrooms                         9540\n",
      "beds                             2402\n",
      "review_scores_accuracy          48439\n",
      "review_scores_cleanliness       48419\n",
      "review_scores_checkin           48528\n",
      "review_scores_communication     48441\n",
      "review_scores_location          48529\n",
      "review_scores_value             48534\n",
      "reviews_per_month               45018\n",
      "dtype: int64\n"
     ]
    }
   ],
   "source": [
    "#How many missing values?\n",
    "\n",
    "print(df[cols_w_missing].isnull().sum())\n",
    "\n",
    "# Lots missing in review scores. Strange! But probably not very relevant to my analysis."
   ]
  },
  {
   "cell_type": "code",
   "execution_count": 296,
   "id": "5145de59",
   "metadata": {},
   "outputs": [],
   "source": [
    "# Dropping bathrooms because all missing\n",
    "df = df.drop('bathrooms', axis = 1)\n",
    "#print(df.shape)\n"
   ]
  },
  {
   "cell_type": "code",
   "execution_count": 297,
   "id": "0ec3f610",
   "metadata": {},
   "outputs": [
    {
     "name": "stdout",
     "output_type": "stream",
     "text": [
      "<class 'pandas.core.frame.DataFrame'>\n",
      "RangeIndex: 150710 entries, 0 to 150709\n",
      "Data columns (total 16 columns):\n",
      " #   Column                       Non-Null Count   Dtype  \n",
      "---  ------                       --------------   -----  \n",
      " 0   room_type                    150710 non-null  int64  \n",
      " 1   accommodates                 150710 non-null  int64  \n",
      " 2   bedrooms                     141170 non-null  float64\n",
      " 3   beds                         148308 non-null  float64\n",
      " 4   price_num                    150710 non-null  float64\n",
      " 5   minimum_nights               150710 non-null  int64  \n",
      " 6   maximum_nights               150710 non-null  int64  \n",
      " 7   has_availability             150710 non-null  int64  \n",
      " 8   review_scores_accuracy       102271 non-null  float64\n",
      " 9   review_scores_cleanliness    102291 non-null  float64\n",
      " 10  review_scores_checkin        102182 non-null  float64\n",
      " 11  review_scores_communication  102269 non-null  float64\n",
      " 12  review_scores_location       102181 non-null  float64\n",
      " 13  review_scores_value          102176 non-null  float64\n",
      " 14  reviews_per_month            105692 non-null  float64\n",
      " 15  month                        150710 non-null  int64  \n",
      "dtypes: float64(10), int64(6)\n",
      "memory usage: 18.4 MB\n"
     ]
    }
   ],
   "source": [
    "df.info()"
   ]
  },
  {
   "cell_type": "code",
   "execution_count": 333,
   "id": "a2993e63",
   "metadata": {},
   "outputs": [
    {
     "data": {
      "text/html": [
       "<div>\n",
       "<style scoped>\n",
       "    .dataframe tbody tr th:only-of-type {\n",
       "        vertical-align: middle;\n",
       "    }\n",
       "\n",
       "    .dataframe tbody tr th {\n",
       "        vertical-align: top;\n",
       "    }\n",
       "\n",
       "    .dataframe thead th {\n",
       "        text-align: right;\n",
       "    }\n",
       "</style>\n",
       "<table border=\"1\" class=\"dataframe\">\n",
       "  <thead>\n",
       "    <tr style=\"text-align: right;\">\n",
       "      <th></th>\n",
       "      <th>room_type</th>\n",
       "      <th>accommodates</th>\n",
       "      <th>bedrooms</th>\n",
       "      <th>beds</th>\n",
       "      <th>price_num</th>\n",
       "      <th>minimum_nights</th>\n",
       "      <th>maximum_nights</th>\n",
       "      <th>price_per_person</th>\n",
       "      <th>has_availability</th>\n",
       "      <th>review_scores_accuracy</th>\n",
       "      <th>review_scores_cleanliness</th>\n",
       "      <th>review_scores_checkin</th>\n",
       "      <th>review_scores_communication</th>\n",
       "      <th>review_scores_location</th>\n",
       "      <th>review_scores_value</th>\n",
       "      <th>reviews_per_month</th>\n",
       "      <th>month</th>\n",
       "    </tr>\n",
       "  </thead>\n",
       "  <tbody>\n",
       "    <tr>\n",
       "      <th>0</th>\n",
       "      <td>0</td>\n",
       "      <td>4</td>\n",
       "      <td>1.0</td>\n",
       "      <td>3.0</td>\n",
       "      <td>89.0</td>\n",
       "      <td>2</td>\n",
       "      <td>1125</td>\n",
       "      <td>22.250000</td>\n",
       "      <td>1</td>\n",
       "      <td>9.0</td>\n",
       "      <td>9.0</td>\n",
       "      <td>10.0</td>\n",
       "      <td>10.0</td>\n",
       "      <td>9.0</td>\n",
       "      <td>9.0</td>\n",
       "      <td>1.46</td>\n",
       "      <td>0</td>\n",
       "    </tr>\n",
       "    <tr>\n",
       "      <th>1</th>\n",
       "      <td>2</td>\n",
       "      <td>2</td>\n",
       "      <td>1.0</td>\n",
       "      <td>0.0</td>\n",
       "      <td>40.0</td>\n",
       "      <td>1</td>\n",
       "      <td>29</td>\n",
       "      <td>20.000000</td>\n",
       "      <td>1</td>\n",
       "      <td>10.0</td>\n",
       "      <td>10.0</td>\n",
       "      <td>10.0</td>\n",
       "      <td>10.0</td>\n",
       "      <td>9.0</td>\n",
       "      <td>9.0</td>\n",
       "      <td>0.17</td>\n",
       "      <td>0</td>\n",
       "    </tr>\n",
       "    <tr>\n",
       "      <th>2</th>\n",
       "      <td>0</td>\n",
       "      <td>2</td>\n",
       "      <td>1.0</td>\n",
       "      <td>1.0</td>\n",
       "      <td>75.0</td>\n",
       "      <td>10</td>\n",
       "      <td>50</td>\n",
       "      <td>37.500000</td>\n",
       "      <td>1</td>\n",
       "      <td>10.0</td>\n",
       "      <td>10.0</td>\n",
       "      <td>10.0</td>\n",
       "      <td>10.0</td>\n",
       "      <td>10.0</td>\n",
       "      <td>9.0</td>\n",
       "      <td>0.66</td>\n",
       "      <td>0</td>\n",
       "    </tr>\n",
       "    <tr>\n",
       "      <th>3</th>\n",
       "      <td>0</td>\n",
       "      <td>6</td>\n",
       "      <td>3.0</td>\n",
       "      <td>3.0</td>\n",
       "      <td>307.0</td>\n",
       "      <td>4</td>\n",
       "      <td>365</td>\n",
       "      <td>51.166667</td>\n",
       "      <td>1</td>\n",
       "      <td>10.0</td>\n",
       "      <td>9.0</td>\n",
       "      <td>9.0</td>\n",
       "      <td>9.0</td>\n",
       "      <td>10.0</td>\n",
       "      <td>9.0</td>\n",
       "      <td>0.35</td>\n",
       "      <td>0</td>\n",
       "    </tr>\n",
       "    <tr>\n",
       "      <th>5</th>\n",
       "      <td>2</td>\n",
       "      <td>2</td>\n",
       "      <td>1.0</td>\n",
       "      <td>0.0</td>\n",
       "      <td>29.0</td>\n",
       "      <td>10</td>\n",
       "      <td>1120</td>\n",
       "      <td>14.500000</td>\n",
       "      <td>1</td>\n",
       "      <td>10.0</td>\n",
       "      <td>10.0</td>\n",
       "      <td>10.0</td>\n",
       "      <td>10.0</td>\n",
       "      <td>9.0</td>\n",
       "      <td>10.0</td>\n",
       "      <td>0.99</td>\n",
       "      <td>0</td>\n",
       "    </tr>\n",
       "    <tr>\n",
       "      <th>...</th>\n",
       "      <td>...</td>\n",
       "      <td>...</td>\n",
       "      <td>...</td>\n",
       "      <td>...</td>\n",
       "      <td>...</td>\n",
       "      <td>...</td>\n",
       "      <td>...</td>\n",
       "      <td>...</td>\n",
       "      <td>...</td>\n",
       "      <td>...</td>\n",
       "      <td>...</td>\n",
       "      <td>...</td>\n",
       "      <td>...</td>\n",
       "      <td>...</td>\n",
       "      <td>...</td>\n",
       "      <td>...</td>\n",
       "      <td>...</td>\n",
       "    </tr>\n",
       "    <tr>\n",
       "      <th>150344</th>\n",
       "      <td>2</td>\n",
       "      <td>1</td>\n",
       "      <td>1.0</td>\n",
       "      <td>0.0</td>\n",
       "      <td>45.0</td>\n",
       "      <td>1</td>\n",
       "      <td>15</td>\n",
       "      <td>45.000000</td>\n",
       "      <td>1</td>\n",
       "      <td>5.0</td>\n",
       "      <td>5.0</td>\n",
       "      <td>5.0</td>\n",
       "      <td>5.0</td>\n",
       "      <td>5.0</td>\n",
       "      <td>5.0</td>\n",
       "      <td>1.00</td>\n",
       "      <td>1</td>\n",
       "    </tr>\n",
       "    <tr>\n",
       "      <th>150350</th>\n",
       "      <td>0</td>\n",
       "      <td>4</td>\n",
       "      <td>1.0</td>\n",
       "      <td>2.0</td>\n",
       "      <td>347.0</td>\n",
       "      <td>2</td>\n",
       "      <td>1125</td>\n",
       "      <td>86.750000</td>\n",
       "      <td>1</td>\n",
       "      <td>5.0</td>\n",
       "      <td>5.0</td>\n",
       "      <td>5.0</td>\n",
       "      <td>5.0</td>\n",
       "      <td>5.0</td>\n",
       "      <td>5.0</td>\n",
       "      <td>3.00</td>\n",
       "      <td>1</td>\n",
       "    </tr>\n",
       "    <tr>\n",
       "      <th>150392</th>\n",
       "      <td>0</td>\n",
       "      <td>6</td>\n",
       "      <td>2.0</td>\n",
       "      <td>3.0</td>\n",
       "      <td>163.0</td>\n",
       "      <td>1</td>\n",
       "      <td>1125</td>\n",
       "      <td>27.166667</td>\n",
       "      <td>1</td>\n",
       "      <td>5.0</td>\n",
       "      <td>5.0</td>\n",
       "      <td>5.0</td>\n",
       "      <td>5.0</td>\n",
       "      <td>5.0</td>\n",
       "      <td>5.0</td>\n",
       "      <td>1.00</td>\n",
       "      <td>1</td>\n",
       "    </tr>\n",
       "    <tr>\n",
       "      <th>150447</th>\n",
       "      <td>2</td>\n",
       "      <td>2</td>\n",
       "      <td>1.0</td>\n",
       "      <td>1.0</td>\n",
       "      <td>28.0</td>\n",
       "      <td>1</td>\n",
       "      <td>1125</td>\n",
       "      <td>14.000000</td>\n",
       "      <td>1</td>\n",
       "      <td>4.0</td>\n",
       "      <td>4.0</td>\n",
       "      <td>4.0</td>\n",
       "      <td>4.0</td>\n",
       "      <td>4.0</td>\n",
       "      <td>4.0</td>\n",
       "      <td>1.00</td>\n",
       "      <td>1</td>\n",
       "    </tr>\n",
       "    <tr>\n",
       "      <th>150496</th>\n",
       "      <td>0</td>\n",
       "      <td>4</td>\n",
       "      <td>1.0</td>\n",
       "      <td>2.0</td>\n",
       "      <td>120.0</td>\n",
       "      <td>1</td>\n",
       "      <td>365</td>\n",
       "      <td>30.000000</td>\n",
       "      <td>1</td>\n",
       "      <td>5.0</td>\n",
       "      <td>5.0</td>\n",
       "      <td>5.0</td>\n",
       "      <td>5.0</td>\n",
       "      <td>4.0</td>\n",
       "      <td>5.0</td>\n",
       "      <td>1.00</td>\n",
       "      <td>1</td>\n",
       "    </tr>\n",
       "  </tbody>\n",
       "</table>\n",
       "<p>95441 rows × 17 columns</p>\n",
       "</div>"
      ],
      "text/plain": [
       "        room_type  accommodates  bedrooms  beds  price_num  minimum_nights  \\\n",
       "0               0             4       1.0   3.0       89.0               2   \n",
       "1               2             2       1.0   0.0       40.0               1   \n",
       "2               0             2       1.0   1.0       75.0              10   \n",
       "3               0             6       3.0   3.0      307.0               4   \n",
       "5               2             2       1.0   0.0       29.0              10   \n",
       "...           ...           ...       ...   ...        ...             ...   \n",
       "150344          2             1       1.0   0.0       45.0               1   \n",
       "150350          0             4       1.0   2.0      347.0               2   \n",
       "150392          0             6       2.0   3.0      163.0               1   \n",
       "150447          2             2       1.0   1.0       28.0               1   \n",
       "150496          0             4       1.0   2.0      120.0               1   \n",
       "\n",
       "        maximum_nights  price_per_person  has_availability  \\\n",
       "0                 1125         22.250000                 1   \n",
       "1                   29         20.000000                 1   \n",
       "2                   50         37.500000                 1   \n",
       "3                  365         51.166667                 1   \n",
       "5                 1120         14.500000                 1   \n",
       "...                ...               ...               ...   \n",
       "150344              15         45.000000                 1   \n",
       "150350            1125         86.750000                 1   \n",
       "150392            1125         27.166667                 1   \n",
       "150447            1125         14.000000                 1   \n",
       "150496             365         30.000000                 1   \n",
       "\n",
       "        review_scores_accuracy  review_scores_cleanliness  \\\n",
       "0                          9.0                        9.0   \n",
       "1                         10.0                       10.0   \n",
       "2                         10.0                       10.0   \n",
       "3                         10.0                        9.0   \n",
       "5                         10.0                       10.0   \n",
       "...                        ...                        ...   \n",
       "150344                     5.0                        5.0   \n",
       "150350                     5.0                        5.0   \n",
       "150392                     5.0                        5.0   \n",
       "150447                     4.0                        4.0   \n",
       "150496                     5.0                        5.0   \n",
       "\n",
       "        review_scores_checkin  review_scores_communication  \\\n",
       "0                        10.0                         10.0   \n",
       "1                        10.0                         10.0   \n",
       "2                        10.0                         10.0   \n",
       "3                         9.0                          9.0   \n",
       "5                        10.0                         10.0   \n",
       "...                       ...                          ...   \n",
       "150344                    5.0                          5.0   \n",
       "150350                    5.0                          5.0   \n",
       "150392                    5.0                          5.0   \n",
       "150447                    4.0                          4.0   \n",
       "150496                    5.0                          5.0   \n",
       "\n",
       "        review_scores_location  review_scores_value  reviews_per_month  month  \n",
       "0                          9.0                  9.0               1.46      0  \n",
       "1                          9.0                  9.0               0.17      0  \n",
       "2                         10.0                  9.0               0.66      0  \n",
       "3                         10.0                  9.0               0.35      0  \n",
       "5                          9.0                 10.0               0.99      0  \n",
       "...                        ...                  ...                ...    ...  \n",
       "150344                     5.0                  5.0               1.00      1  \n",
       "150350                     5.0                  5.0               3.00      1  \n",
       "150392                     5.0                  5.0               1.00      1  \n",
       "150447                     4.0                  4.0               1.00      1  \n",
       "150496                     4.0                  5.0               1.00      1  \n",
       "\n",
       "[95441 rows x 17 columns]"
      ]
     },
     "execution_count": 333,
     "metadata": {},
     "output_type": "execute_result"
    }
   ],
   "source": [
    "# Need to remove NaN for below to work\n",
    "\n",
    "df.dropna()\n"
   ]
  },
  {
   "cell_type": "code",
   "execution_count": 332,
   "id": "ca7acbb2",
   "metadata": {},
   "outputs": [
    {
     "name": "stdout",
     "output_type": "stream",
     "text": [
      "<class 'pandas.core.frame.DataFrame'>\n",
      "Int64Index: 149772 entries, 0 to 150709\n",
      "Data columns (total 17 columns):\n",
      " #   Column                       Non-Null Count   Dtype  \n",
      "---  ------                       --------------   -----  \n",
      " 0   room_type                    149772 non-null  int64  \n",
      " 1   accommodates                 149772 non-null  int64  \n",
      " 2   bedrooms                     140371 non-null  float64\n",
      " 3   beds                         147418 non-null  float64\n",
      " 4   price_num                    149772 non-null  float64\n",
      " 5   minimum_nights               149772 non-null  int64  \n",
      " 6   maximum_nights               149772 non-null  int64  \n",
      " 7   price_per_person             149772 non-null  float64\n",
      " 8   has_availability             149772 non-null  int64  \n",
      " 9   review_scores_accuracy       101954 non-null  float64\n",
      " 10  review_scores_cleanliness    101974 non-null  float64\n",
      " 11  review_scores_checkin        101865 non-null  float64\n",
      " 12  review_scores_communication  101952 non-null  float64\n",
      " 13  review_scores_location       101864 non-null  float64\n",
      " 14  review_scores_value          101859 non-null  float64\n",
      " 15  reviews_per_month            105340 non-null  float64\n",
      " 16  month                        149772 non-null  int64  \n",
      "dtypes: float64(11), int64(6)\n",
      "memory usage: 24.6 MB\n"
     ]
    }
   ],
   "source": [
    "df.info()"
   ]
  },
  {
   "cell_type": "markdown",
   "id": "5c5c4487",
   "metadata": {},
   "source": [
    "vars to use in my analysis\n",
    "\n",
    "* room_type\n",
    "* accommodates\n",
    "(could add bedrooms and beds)\n",
    "* min and max nights\n",
    "* has availability\n",
    "* price per person accommodated\n",
    "\n",
    "\n",
    "\n",
    "Additional for linear regression:\n",
    "* review data\n",
    "* host_listings_count?\n",
    "* amenities"
   ]
  },
  {
   "cell_type": "markdown",
   "id": "6bc4c155",
   "metadata": {},
   "source": [
    "# Creating dataframe / variable of lockdown measures\n"
   ]
  },
  {
   "cell_type": "code",
   "execution_count": 299,
   "id": "95dd6455",
   "metadata": {},
   "outputs": [],
   "source": [
    "# Not doing this now because a) may not be necessary (just looking at time trend should be enough) and b) only comparing two time points"
   ]
  },
  {
   "cell_type": "markdown",
   "id": "24f3c3ea",
   "metadata": {},
   "source": [
    "# Summary stats"
   ]
  },
  {
   "cell_type": "markdown",
   "id": "91d179ff",
   "metadata": {},
   "source": [
    "For now, doing this for room type, number of listings, price per person"
   ]
  },
  {
   "cell_type": "code",
   "execution_count": 300,
   "id": "bbe038f1",
   "metadata": {},
   "outputs": [
    {
     "data": {
      "text/html": [
       "<div>\n",
       "<style scoped>\n",
       "    .dataframe tbody tr th:only-of-type {\n",
       "        vertical-align: middle;\n",
       "    }\n",
       "\n",
       "    .dataframe tbody tr th {\n",
       "        vertical-align: top;\n",
       "    }\n",
       "\n",
       "    .dataframe thead th {\n",
       "        text-align: right;\n",
       "    }\n",
       "</style>\n",
       "<table border=\"1\" class=\"dataframe\">\n",
       "  <thead>\n",
       "    <tr style=\"text-align: right;\">\n",
       "      <th></th>\n",
       "      <th>room_type</th>\n",
       "      <th>accommodates</th>\n",
       "      <th>bedrooms</th>\n",
       "      <th>beds</th>\n",
       "      <th>price_num</th>\n",
       "      <th>minimum_nights</th>\n",
       "      <th>maximum_nights</th>\n",
       "      <th>has_availability</th>\n",
       "      <th>review_scores_accuracy</th>\n",
       "      <th>review_scores_cleanliness</th>\n",
       "      <th>review_scores_checkin</th>\n",
       "      <th>review_scores_communication</th>\n",
       "      <th>review_scores_location</th>\n",
       "      <th>review_scores_value</th>\n",
       "      <th>reviews_per_month</th>\n",
       "      <th>month</th>\n",
       "    </tr>\n",
       "  </thead>\n",
       "  <tbody>\n",
       "    <tr>\n",
       "      <th>count</th>\n",
       "      <td>150710.000000</td>\n",
       "      <td>150710.000000</td>\n",
       "      <td>141170.000000</td>\n",
       "      <td>148308.000000</td>\n",
       "      <td>150710.000000</td>\n",
       "      <td>150710.000000</td>\n",
       "      <td>1.507100e+05</td>\n",
       "      <td>150710.000000</td>\n",
       "      <td>102271.000000</td>\n",
       "      <td>102291.000000</td>\n",
       "      <td>102182.000000</td>\n",
       "      <td>102269.000000</td>\n",
       "      <td>102181.000000</td>\n",
       "      <td>102176.000000</td>\n",
       "      <td>105692.000000</td>\n",
       "      <td>150710.000000</td>\n",
       "    </tr>\n",
       "    <tr>\n",
       "      <th>mean</th>\n",
       "      <td>0.905892</td>\n",
       "      <td>3.038106</td>\n",
       "      <td>1.484997</td>\n",
       "      <td>1.696753</td>\n",
       "      <td>123.692973</td>\n",
       "      <td>5.512222</td>\n",
       "      <td>1.767940e+04</td>\n",
       "      <td>0.992867</td>\n",
       "      <td>7.219897</td>\n",
       "      <td>7.039637</td>\n",
       "      <td>7.313686</td>\n",
       "      <td>7.332306</td>\n",
       "      <td>7.244244</td>\n",
       "      <td>7.056218</td>\n",
       "      <td>0.613430</td>\n",
       "      <td>0.486789</td>\n",
       "    </tr>\n",
       "    <tr>\n",
       "      <th>std</th>\n",
       "      <td>1.003607</td>\n",
       "      <td>1.936590</td>\n",
       "      <td>0.879192</td>\n",
       "      <td>1.280531</td>\n",
       "      <td>380.009804</td>\n",
       "      <td>24.399767</td>\n",
       "      <td>3.885942e+06</td>\n",
       "      <td>0.084155</td>\n",
       "      <td>2.533092</td>\n",
       "      <td>2.514336</td>\n",
       "      <td>2.537662</td>\n",
       "      <td>2.538404</td>\n",
       "      <td>2.500537</td>\n",
       "      <td>2.485248</td>\n",
       "      <td>1.014544</td>\n",
       "      <td>0.499827</td>\n",
       "    </tr>\n",
       "    <tr>\n",
       "      <th>min</th>\n",
       "      <td>0.000000</td>\n",
       "      <td>0.000000</td>\n",
       "      <td>1.000000</td>\n",
       "      <td>0.000000</td>\n",
       "      <td>0.000000</td>\n",
       "      <td>1.000000</td>\n",
       "      <td>1.000000e+00</td>\n",
       "      <td>0.000000</td>\n",
       "      <td>0.000000</td>\n",
       "      <td>0.000000</td>\n",
       "      <td>0.000000</td>\n",
       "      <td>0.000000</td>\n",
       "      <td>0.000000</td>\n",
       "      <td>0.000000</td>\n",
       "      <td>0.010000</td>\n",
       "      <td>0.000000</td>\n",
       "    </tr>\n",
       "    <tr>\n",
       "      <th>25%</th>\n",
       "      <td>0.000000</td>\n",
       "      <td>2.000000</td>\n",
       "      <td>1.000000</td>\n",
       "      <td>1.000000</td>\n",
       "      <td>44.000000</td>\n",
       "      <td>1.000000</td>\n",
       "      <td>3.100000e+01</td>\n",
       "      <td>1.000000</td>\n",
       "      <td>4.910000</td>\n",
       "      <td>4.820000</td>\n",
       "      <td>4.970000</td>\n",
       "      <td>5.000000</td>\n",
       "      <td>4.890000</td>\n",
       "      <td>4.780000</td>\n",
       "      <td>0.100000</td>\n",
       "      <td>0.000000</td>\n",
       "    </tr>\n",
       "    <tr>\n",
       "      <th>50%</th>\n",
       "      <td>0.000000</td>\n",
       "      <td>2.000000</td>\n",
       "      <td>1.000000</td>\n",
       "      <td>1.000000</td>\n",
       "      <td>75.000000</td>\n",
       "      <td>2.000000</td>\n",
       "      <td>1.125000e+03</td>\n",
       "      <td>1.000000</td>\n",
       "      <td>8.000000</td>\n",
       "      <td>7.000000</td>\n",
       "      <td>8.000000</td>\n",
       "      <td>8.000000</td>\n",
       "      <td>8.000000</td>\n",
       "      <td>7.000000</td>\n",
       "      <td>0.300000</td>\n",
       "      <td>0.000000</td>\n",
       "    </tr>\n",
       "    <tr>\n",
       "      <th>75%</th>\n",
       "      <td>2.000000</td>\n",
       "      <td>4.000000</td>\n",
       "      <td>2.000000</td>\n",
       "      <td>2.000000</td>\n",
       "      <td>126.000000</td>\n",
       "      <td>4.000000</td>\n",
       "      <td>1.125000e+03</td>\n",
       "      <td>1.000000</td>\n",
       "      <td>10.000000</td>\n",
       "      <td>10.000000</td>\n",
       "      <td>10.000000</td>\n",
       "      <td>10.000000</td>\n",
       "      <td>10.000000</td>\n",
       "      <td>10.000000</td>\n",
       "      <td>0.780000</td>\n",
       "      <td>1.000000</td>\n",
       "    </tr>\n",
       "    <tr>\n",
       "      <th>max</th>\n",
       "      <td>3.000000</td>\n",
       "      <td>16.000000</td>\n",
       "      <td>50.000000</td>\n",
       "      <td>50.000000</td>\n",
       "      <td>18115.000000</td>\n",
       "      <td>1125.000000</td>\n",
       "      <td>1.000000e+09</td>\n",
       "      <td>1.000000</td>\n",
       "      <td>10.000000</td>\n",
       "      <td>10.000000</td>\n",
       "      <td>10.000000</td>\n",
       "      <td>10.000000</td>\n",
       "      <td>10.000000</td>\n",
       "      <td>10.000000</td>\n",
       "      <td>67.000000</td>\n",
       "      <td>1.000000</td>\n",
       "    </tr>\n",
       "  </tbody>\n",
       "</table>\n",
       "</div>"
      ],
      "text/plain": [
       "           room_type   accommodates       bedrooms           beds  \\\n",
       "count  150710.000000  150710.000000  141170.000000  148308.000000   \n",
       "mean        0.905892       3.038106       1.484997       1.696753   \n",
       "std         1.003607       1.936590       0.879192       1.280531   \n",
       "min         0.000000       0.000000       1.000000       0.000000   \n",
       "25%         0.000000       2.000000       1.000000       1.000000   \n",
       "50%         0.000000       2.000000       1.000000       1.000000   \n",
       "75%         2.000000       4.000000       2.000000       2.000000   \n",
       "max         3.000000      16.000000      50.000000      50.000000   \n",
       "\n",
       "           price_num  minimum_nights  maximum_nights  has_availability  \\\n",
       "count  150710.000000   150710.000000    1.507100e+05     150710.000000   \n",
       "mean      123.692973        5.512222    1.767940e+04          0.992867   \n",
       "std       380.009804       24.399767    3.885942e+06          0.084155   \n",
       "min         0.000000        1.000000    1.000000e+00          0.000000   \n",
       "25%        44.000000        1.000000    3.100000e+01          1.000000   \n",
       "50%        75.000000        2.000000    1.125000e+03          1.000000   \n",
       "75%       126.000000        4.000000    1.125000e+03          1.000000   \n",
       "max     18115.000000     1125.000000    1.000000e+09          1.000000   \n",
       "\n",
       "       review_scores_accuracy  review_scores_cleanliness  \\\n",
       "count           102271.000000              102291.000000   \n",
       "mean                 7.219897                   7.039637   \n",
       "std                  2.533092                   2.514336   \n",
       "min                  0.000000                   0.000000   \n",
       "25%                  4.910000                   4.820000   \n",
       "50%                  8.000000                   7.000000   \n",
       "75%                 10.000000                  10.000000   \n",
       "max                 10.000000                  10.000000   \n",
       "\n",
       "       review_scores_checkin  review_scores_communication  \\\n",
       "count          102182.000000                102269.000000   \n",
       "mean                7.313686                     7.332306   \n",
       "std                 2.537662                     2.538404   \n",
       "min                 0.000000                     0.000000   \n",
       "25%                 4.970000                     5.000000   \n",
       "50%                 8.000000                     8.000000   \n",
       "75%                10.000000                    10.000000   \n",
       "max                10.000000                    10.000000   \n",
       "\n",
       "       review_scores_location  review_scores_value  reviews_per_month  \\\n",
       "count           102181.000000        102176.000000      105692.000000   \n",
       "mean                 7.244244             7.056218           0.613430   \n",
       "std                  2.500537             2.485248           1.014544   \n",
       "min                  0.000000             0.000000           0.010000   \n",
       "25%                  4.890000             4.780000           0.100000   \n",
       "50%                  8.000000             7.000000           0.300000   \n",
       "75%                 10.000000            10.000000           0.780000   \n",
       "max                 10.000000            10.000000          67.000000   \n",
       "\n",
       "               month  \n",
       "count  150710.000000  \n",
       "mean        0.486789  \n",
       "std         0.499827  \n",
       "min         0.000000  \n",
       "25%         0.000000  \n",
       "50%         0.000000  \n",
       "75%         1.000000  \n",
       "max         1.000000  "
      ]
     },
     "execution_count": 300,
     "metadata": {},
     "output_type": "execute_result"
    }
   ],
   "source": [
    "df.describe()"
   ]
  },
  {
   "cell_type": "code",
   "execution_count": 301,
   "id": "3d0872b0",
   "metadata": {},
   "outputs": [],
   "source": [
    "# Dropping rows where price is zero\n",
    "# https://stackoverflow.com/questions/13851535/how-to-delete-rows-from-a-pandas-dataframe-based-on-a-conditional-expression\n",
    "df.drop(df[df.price_num==0].index, inplace = True)"
   ]
  },
  {
   "cell_type": "code",
   "execution_count": 302,
   "id": "4459f464",
   "metadata": {},
   "outputs": [
    {
     "data": {
      "text/html": [
       "<div>\n",
       "<style scoped>\n",
       "    .dataframe tbody tr th:only-of-type {\n",
       "        vertical-align: middle;\n",
       "    }\n",
       "\n",
       "    .dataframe tbody tr th {\n",
       "        vertical-align: top;\n",
       "    }\n",
       "\n",
       "    .dataframe thead th {\n",
       "        text-align: right;\n",
       "    }\n",
       "</style>\n",
       "<table border=\"1\" class=\"dataframe\">\n",
       "  <thead>\n",
       "    <tr style=\"text-align: right;\">\n",
       "      <th></th>\n",
       "      <th>room_type</th>\n",
       "      <th>accommodates</th>\n",
       "      <th>bedrooms</th>\n",
       "      <th>beds</th>\n",
       "      <th>price_num</th>\n",
       "      <th>minimum_nights</th>\n",
       "      <th>maximum_nights</th>\n",
       "      <th>has_availability</th>\n",
       "      <th>review_scores_accuracy</th>\n",
       "      <th>review_scores_cleanliness</th>\n",
       "      <th>review_scores_checkin</th>\n",
       "      <th>review_scores_communication</th>\n",
       "      <th>review_scores_location</th>\n",
       "      <th>review_scores_value</th>\n",
       "      <th>reviews_per_month</th>\n",
       "      <th>month</th>\n",
       "    </tr>\n",
       "  </thead>\n",
       "  <tbody>\n",
       "    <tr>\n",
       "      <th>count</th>\n",
       "      <td>150659.000000</td>\n",
       "      <td>150659.000000</td>\n",
       "      <td>141162.000000</td>\n",
       "      <td>148300.000000</td>\n",
       "      <td>150659.000000</td>\n",
       "      <td>150659.000000</td>\n",
       "      <td>1.506590e+05</td>\n",
       "      <td>150659.000000</td>\n",
       "      <td>102255.00000</td>\n",
       "      <td>102275.000000</td>\n",
       "      <td>102166.000000</td>\n",
       "      <td>102253.000000</td>\n",
       "      <td>102165.000000</td>\n",
       "      <td>102160.000000</td>\n",
       "      <td>105676.000000</td>\n",
       "      <td>150659.000000</td>\n",
       "    </tr>\n",
       "    <tr>\n",
       "      <th>mean</th>\n",
       "      <td>0.905807</td>\n",
       "      <td>3.037489</td>\n",
       "      <td>1.485024</td>\n",
       "      <td>1.696790</td>\n",
       "      <td>123.734845</td>\n",
       "      <td>5.512210</td>\n",
       "      <td>1.768523e+04</td>\n",
       "      <td>0.992885</td>\n",
       "      <td>7.22031</td>\n",
       "      <td>7.040060</td>\n",
       "      <td>7.314081</td>\n",
       "      <td>7.332701</td>\n",
       "      <td>7.244623</td>\n",
       "      <td>7.056592</td>\n",
       "      <td>0.613364</td>\n",
       "      <td>0.486775</td>\n",
       "    </tr>\n",
       "    <tr>\n",
       "      <th>std</th>\n",
       "      <td>1.003744</td>\n",
       "      <td>1.934051</td>\n",
       "      <td>0.879210</td>\n",
       "      <td>1.280555</td>\n",
       "      <td>380.067303</td>\n",
       "      <td>24.403125</td>\n",
       "      <td>3.886600e+06</td>\n",
       "      <td>0.084053</td>\n",
       "      <td>2.53298</td>\n",
       "      <td>2.514181</td>\n",
       "      <td>2.537596</td>\n",
       "      <td>2.538321</td>\n",
       "      <td>2.500501</td>\n",
       "      <td>2.485192</td>\n",
       "      <td>1.014518</td>\n",
       "      <td>0.499827</td>\n",
       "    </tr>\n",
       "    <tr>\n",
       "      <th>min</th>\n",
       "      <td>0.000000</td>\n",
       "      <td>1.000000</td>\n",
       "      <td>1.000000</td>\n",
       "      <td>0.000000</td>\n",
       "      <td>7.000000</td>\n",
       "      <td>1.000000</td>\n",
       "      <td>1.000000e+00</td>\n",
       "      <td>0.000000</td>\n",
       "      <td>0.00000</td>\n",
       "      <td>0.000000</td>\n",
       "      <td>0.000000</td>\n",
       "      <td>0.000000</td>\n",
       "      <td>0.000000</td>\n",
       "      <td>0.000000</td>\n",
       "      <td>0.010000</td>\n",
       "      <td>0.000000</td>\n",
       "    </tr>\n",
       "    <tr>\n",
       "      <th>25%</th>\n",
       "      <td>0.000000</td>\n",
       "      <td>2.000000</td>\n",
       "      <td>1.000000</td>\n",
       "      <td>1.000000</td>\n",
       "      <td>44.000000</td>\n",
       "      <td>1.000000</td>\n",
       "      <td>3.100000e+01</td>\n",
       "      <td>1.000000</td>\n",
       "      <td>4.91000</td>\n",
       "      <td>4.820000</td>\n",
       "      <td>4.970000</td>\n",
       "      <td>5.000000</td>\n",
       "      <td>4.890000</td>\n",
       "      <td>4.780000</td>\n",
       "      <td>0.100000</td>\n",
       "      <td>0.000000</td>\n",
       "    </tr>\n",
       "    <tr>\n",
       "      <th>50%</th>\n",
       "      <td>0.000000</td>\n",
       "      <td>2.000000</td>\n",
       "      <td>1.000000</td>\n",
       "      <td>1.000000</td>\n",
       "      <td>75.000000</td>\n",
       "      <td>2.000000</td>\n",
       "      <td>1.125000e+03</td>\n",
       "      <td>1.000000</td>\n",
       "      <td>8.00000</td>\n",
       "      <td>7.000000</td>\n",
       "      <td>8.000000</td>\n",
       "      <td>8.000000</td>\n",
       "      <td>8.000000</td>\n",
       "      <td>7.000000</td>\n",
       "      <td>0.300000</td>\n",
       "      <td>0.000000</td>\n",
       "    </tr>\n",
       "    <tr>\n",
       "      <th>75%</th>\n",
       "      <td>2.000000</td>\n",
       "      <td>4.000000</td>\n",
       "      <td>2.000000</td>\n",
       "      <td>2.000000</td>\n",
       "      <td>126.000000</td>\n",
       "      <td>4.000000</td>\n",
       "      <td>1.125000e+03</td>\n",
       "      <td>1.000000</td>\n",
       "      <td>10.00000</td>\n",
       "      <td>10.000000</td>\n",
       "      <td>10.000000</td>\n",
       "      <td>10.000000</td>\n",
       "      <td>10.000000</td>\n",
       "      <td>10.000000</td>\n",
       "      <td>0.780000</td>\n",
       "      <td>1.000000</td>\n",
       "    </tr>\n",
       "    <tr>\n",
       "      <th>max</th>\n",
       "      <td>3.000000</td>\n",
       "      <td>16.000000</td>\n",
       "      <td>50.000000</td>\n",
       "      <td>50.000000</td>\n",
       "      <td>18115.000000</td>\n",
       "      <td>1125.000000</td>\n",
       "      <td>1.000000e+09</td>\n",
       "      <td>1.000000</td>\n",
       "      <td>10.00000</td>\n",
       "      <td>10.000000</td>\n",
       "      <td>10.000000</td>\n",
       "      <td>10.000000</td>\n",
       "      <td>10.000000</td>\n",
       "      <td>10.000000</td>\n",
       "      <td>67.000000</td>\n",
       "      <td>1.000000</td>\n",
       "    </tr>\n",
       "  </tbody>\n",
       "</table>\n",
       "</div>"
      ],
      "text/plain": [
       "           room_type   accommodates       bedrooms           beds  \\\n",
       "count  150659.000000  150659.000000  141162.000000  148300.000000   \n",
       "mean        0.905807       3.037489       1.485024       1.696790   \n",
       "std         1.003744       1.934051       0.879210       1.280555   \n",
       "min         0.000000       1.000000       1.000000       0.000000   \n",
       "25%         0.000000       2.000000       1.000000       1.000000   \n",
       "50%         0.000000       2.000000       1.000000       1.000000   \n",
       "75%         2.000000       4.000000       2.000000       2.000000   \n",
       "max         3.000000      16.000000      50.000000      50.000000   \n",
       "\n",
       "           price_num  minimum_nights  maximum_nights  has_availability  \\\n",
       "count  150659.000000   150659.000000    1.506590e+05     150659.000000   \n",
       "mean      123.734845        5.512210    1.768523e+04          0.992885   \n",
       "std       380.067303       24.403125    3.886600e+06          0.084053   \n",
       "min         7.000000        1.000000    1.000000e+00          0.000000   \n",
       "25%        44.000000        1.000000    3.100000e+01          1.000000   \n",
       "50%        75.000000        2.000000    1.125000e+03          1.000000   \n",
       "75%       126.000000        4.000000    1.125000e+03          1.000000   \n",
       "max     18115.000000     1125.000000    1.000000e+09          1.000000   \n",
       "\n",
       "       review_scores_accuracy  review_scores_cleanliness  \\\n",
       "count            102255.00000              102275.000000   \n",
       "mean                  7.22031                   7.040060   \n",
       "std                   2.53298                   2.514181   \n",
       "min                   0.00000                   0.000000   \n",
       "25%                   4.91000                   4.820000   \n",
       "50%                   8.00000                   7.000000   \n",
       "75%                  10.00000                  10.000000   \n",
       "max                  10.00000                  10.000000   \n",
       "\n",
       "       review_scores_checkin  review_scores_communication  \\\n",
       "count          102166.000000                102253.000000   \n",
       "mean                7.314081                     7.332701   \n",
       "std                 2.537596                     2.538321   \n",
       "min                 0.000000                     0.000000   \n",
       "25%                 4.970000                     5.000000   \n",
       "50%                 8.000000                     8.000000   \n",
       "75%                10.000000                    10.000000   \n",
       "max                10.000000                    10.000000   \n",
       "\n",
       "       review_scores_location  review_scores_value  reviews_per_month  \\\n",
       "count           102165.000000        102160.000000      105676.000000   \n",
       "mean                 7.244623             7.056592           0.613364   \n",
       "std                  2.500501             2.485192           1.014518   \n",
       "min                  0.000000             0.000000           0.010000   \n",
       "25%                  4.890000             4.780000           0.100000   \n",
       "50%                  8.000000             7.000000           0.300000   \n",
       "75%                 10.000000            10.000000           0.780000   \n",
       "max                 10.000000            10.000000          67.000000   \n",
       "\n",
       "               month  \n",
       "count  150659.000000  \n",
       "mean        0.486775  \n",
       "std         0.499827  \n",
       "min         0.000000  \n",
       "25%         0.000000  \n",
       "50%         0.000000  \n",
       "75%         1.000000  \n",
       "max         1.000000  "
      ]
     },
     "execution_count": 302,
     "metadata": {},
     "output_type": "execute_result"
    }
   ],
   "source": [
    "df.describe()"
   ]
  },
  {
   "cell_type": "markdown",
   "id": "89650874",
   "metadata": {},
   "source": [
    "# Graphs\n",
    "All of these against the severity of lockdown measures [how to represent this in the graph?]\n",
    "(1) Line graph for number of listings (not sure this is very interesting when looking at only two data points)\n",
    "(2) Stacked bar charts for type of listing\n",
    "(3) Line graph of mean (?) price with standard deviations as shaded areas: https://stackoverflow.com/questions/12957582/plot-yerr-xerr-as-shaded-region-rather-than-error-bars"
   ]
  },
  {
   "cell_type": "markdown",
   "id": "c79eeb39",
   "metadata": {},
   "source": [
    "## Graph 1 - availability"
   ]
  },
  {
   "cell_type": "code",
   "execution_count": 303,
   "id": "f5a1bfad",
   "metadata": {},
   "outputs": [
    {
     "data": {
      "text/plain": [
       "<AxesSubplot:ylabel='has_availability'>"
      ]
     },
     "execution_count": 303,
     "metadata": {},
     "output_type": "execute_result"
    },
    {
     "data": {
      "image/png": "[encoded data removed]",
      "text/plain": [
       "<Figure size 432x288 with 1 Axes>"
      ]
     },
     "metadata": {
      "needs_background": "light"
     },
     "output_type": "display_data"
    }
   ],
   "source": [
    "# Number of available listings\n",
    "df.groupby('month').has_availability.value_counts(normalize = True).unstack(0).plot.barh()\n"
   ]
  },
  {
   "cell_type": "markdown",
   "id": "301b8147",
   "metadata": {},
   "source": [
    "## Graph 2 - room types"
   ]
  },
  {
   "cell_type": "code",
   "execution_count": 304,
   "id": "6134239c",
   "metadata": {},
   "outputs": [
    {
     "data": {
      "text/plain": [
       "<AxesSubplot:ylabel='room_type'>"
      ]
     },
     "execution_count": 304,
     "metadata": {},
     "output_type": "execute_result"
    },
    {
     "data": {
      "image/png": "[encoded data removed]",
      "text/plain": [
       "<Figure size 432x288 with 1 Axes>"
      ]
     },
     "metadata": {
      "needs_background": "light"
     },
     "output_type": "display_data"
    }
   ],
   "source": [
    "# Are more entire homes available vs rooms / shared?\n",
    "\n",
    "df.groupby('month').room_type.value_counts(normalize = True).unstack(0).plot.barh()\n"
   ]
  },
  {
   "cell_type": "code",
   "execution_count": 305,
   "id": "ed9c0766",
   "metadata": {},
   "outputs": [
    {
     "data": {
      "text/html": [
       "<div>\n",
       "<style scoped>\n",
       "    .dataframe tbody tr th:only-of-type {\n",
       "        vertical-align: middle;\n",
       "    }\n",
       "\n",
       "    .dataframe tbody tr th {\n",
       "        vertical-align: top;\n",
       "    }\n",
       "\n",
       "    .dataframe thead tr th {\n",
       "        text-align: left;\n",
       "    }\n",
       "\n",
       "    .dataframe thead tr:last-of-type th {\n",
       "        text-align: right;\n",
       "    }\n",
       "</style>\n",
       "<table border=\"1\" class=\"dataframe\">\n",
       "  <thead>\n",
       "    <tr>\n",
       "      <th></th>\n",
       "      <th>room_type</th>\n",
       "    </tr>\n",
       "    <tr>\n",
       "      <th></th>\n",
       "      <th>count</th>\n",
       "    </tr>\n",
       "    <tr>\n",
       "      <th>room_type</th>\n",
       "      <th></th>\n",
       "    </tr>\n",
       "  </thead>\n",
       "  <tbody>\n",
       "    <tr>\n",
       "      <th>0</th>\n",
       "      <td>82506</td>\n",
       "    </tr>\n",
       "    <tr>\n",
       "      <th>1</th>\n",
       "      <td>990</td>\n",
       "    </tr>\n",
       "    <tr>\n",
       "      <th>2</th>\n",
       "      <td>66011</td>\n",
       "    </tr>\n",
       "    <tr>\n",
       "      <th>3</th>\n",
       "      <td>1152</td>\n",
       "    </tr>\n",
       "  </tbody>\n",
       "</table>\n",
       "</div>"
      ],
      "text/plain": [
       "          room_type\n",
       "              count\n",
       "room_type          \n",
       "0             82506\n",
       "1               990\n",
       "2             66011\n",
       "3              1152"
      ]
     },
     "execution_count": 305,
     "metadata": {},
     "output_type": "execute_result"
    }
   ],
   "source": [
    "# How to do this by month?\n",
    "\n",
    "df.groupby(['room_type']).agg({'room_type':['count']})\n"
   ]
  },
  {
   "cell_type": "markdown",
   "id": "b469d6ae",
   "metadata": {},
   "source": [
    "## Graph 3 - price"
   ]
  },
  {
   "cell_type": "code",
   "execution_count": 306,
   "id": "e46f4cb1",
   "metadata": {},
   "outputs": [
    {
     "data": {
      "text/plain": [
       "<AxesSubplot:xlabel='month', ylabel='price_num'>"
      ]
     },
     "execution_count": 306,
     "metadata": {},
     "output_type": "execute_result"
    },
    {
     "data": {
      "image/png": "[encoded data removed]",
      "text/plain": [
       "<Figure size 432x288 with 1 Axes>"
      ]
     },
     "metadata": {
      "needs_background": "light"
     },
     "output_type": "display_data"
    }
   ],
   "source": [
    "# # Does price go up?\n",
    "\n",
    "# Boxplot for price (Jan and July)\n",
    "sns.boxplot(x=df['month'], y=df['price_num'])\n",
    "\n",
    "# I think there is some work to do looking at the extreme outliers here"
   ]
  },
  {
   "cell_type": "code",
   "execution_count": 307,
   "id": "6935f9b6",
   "metadata": {},
   "outputs": [],
   "source": [
    "# Inter quantile ranges (doesn't really make sense for categorical, but not sure how to omit)\n",
    "\n",
    "#Q1 = df['price_num'].quantile(0.25)\n",
    "#Q3 = df['price_num'].quantile(0.75)\n",
    "#IQR = Q3-Q1\n",
    "#print(IQR)"
   ]
  },
  {
   "cell_type": "code",
   "execution_count": 308,
   "id": "bbdb2715",
   "metadata": {},
   "outputs": [],
   "source": [
    "# Removing outliers - would like to do this for income var only.\n",
    "#df = df[~((df < (Q1-1.5 * IQR)) |(df > (Q3 + 1.5 * IQR))).any(axis=1)]\n",
    "#df.shape"
   ]
  },
  {
   "cell_type": "code",
   "execution_count": 309,
   "id": "72416264",
   "metadata": {},
   "outputs": [],
   "source": [
    "# Quic and dirty\n",
    "\n",
    "df.drop(df[df.price_num>1000].index, inplace = True)"
   ]
  },
  {
   "cell_type": "code",
   "execution_count": 310,
   "id": "bdb3445b",
   "metadata": {},
   "outputs": [
    {
     "data": {
      "text/plain": [
       "<AxesSubplot:xlabel='month', ylabel='price_num'>"
      ]
     },
     "execution_count": 310,
     "metadata": {},
     "output_type": "execute_result"
    },
    {
     "data": {
      "image/png": "[encoded data removed]",
      "text/plain": [
       "<Figure size 432x288 with 1 Axes>"
      ]
     },
     "metadata": {
      "needs_background": "light"
     },
     "output_type": "display_data"
    }
   ],
   "source": [
    "sns.boxplot(x=df['month'], y=np.log(df['price_num']))\n",
    "\n",
    "# On first run, discovered that there are some zero values here, so have now removed them above.\n",
    "# Seems like the mean is slightly higher. "
   ]
  },
  {
   "cell_type": "code",
   "execution_count": 330,
   "id": "cd7d957f",
   "metadata": {},
   "outputs": [
    {
     "data": {
      "text/plain": [
       "<AxesSubplot:xlabel='price_num', ylabel='Count'>"
      ]
     },
     "execution_count": 330,
     "metadata": {},
     "output_type": "execute_result"
    },
    {
     "data": {
      "image/png": "[encoded data removed]",
      "text/plain": [
       "<Figure size 432x288 with 1 Axes>"
      ]
     },
     "metadata": {
      "needs_background": "light"
     },
     "output_type": "display_data"
    }
   ],
   "source": [
    "# How can I show this plot just for prices < 500?\n",
    "\n",
    "# Filter\n",
    "under = pd.Series(df['price_num'] <500)\n",
    "a = df['price_num'][under]\n",
    "sns.histplot(data=df, x=a, hue=\"month\")\n",
    "\n"
   ]
  },
  {
   "cell_type": "code",
   "execution_count": 317,
   "id": "c017d68c",
   "metadata": {},
   "outputs": [
    {
     "data": {
      "text/plain": [
       "<AxesSubplot:xlabel='month', ylabel='price_num'>"
      ]
     },
     "execution_count": 317,
     "metadata": {},
     "output_type": "execute_result"
    },
    {
     "data": {
      "image/png": "[encoded data removed]",
      "text/plain": [
       "<Figure size 432x288 with 1 Axes>"
      ]
     },
     "metadata": {
      "needs_background": "light"
     },
     "output_type": "display_data"
    }
   ],
   "source": [
    "sns.violinplot(x = \"month\", y='price_num', data = df)"
   ]
  },
  {
   "cell_type": "markdown",
   "id": "1dc8fed0",
   "metadata": {},
   "source": [
    "Would like to plot just the means with SDs, over time."
   ]
  },
  {
   "cell_type": "code",
   "execution_count": 318,
   "id": "4fdef6a8",
   "metadata": {},
   "outputs": [],
   "source": [
    "# What does this look like for price per person accommodated?\n",
    "#df = df.drop('price_per_person', axis = 1)\n",
    "df.insert(7, \"price_per_person\", df['price_num']/df['accommodates'])\n"
   ]
  },
  {
   "cell_type": "code",
   "execution_count": 319,
   "id": "c53e5c9d",
   "metadata": {},
   "outputs": [
    {
     "data": {
      "text/plain": [
       "<AxesSubplot:xlabel='month', ylabel='price_per_person'>"
      ]
     },
     "execution_count": 319,
     "metadata": {},
     "output_type": "execute_result"
    },
    {
     "data": {
      "image/png": "[encoded data removed]",
      "text/plain": [
       "<Figure size 432x288 with 1 Axes>"
      ]
     },
     "metadata": {
      "needs_background": "light"
     },
     "output_type": "display_data"
    }
   ],
   "source": [
    "sns.boxplot(x=df['month'], y=(df['price_per_person']))"
   ]
  },
  {
   "cell_type": "code",
   "execution_count": 320,
   "id": "763cc14c",
   "metadata": {},
   "outputs": [
    {
     "data": {
      "text/plain": [
       "<AxesSubplot:xlabel='month', ylabel='price_per_person'>"
      ]
     },
     "execution_count": 320,
     "metadata": {},
     "output_type": "execute_result"
    },
    {
     "data": {
      "image/png": "[encoded data removed]",
      "text/plain": [
       "<Figure size 432x288 with 1 Axes>"
      ]
     },
     "metadata": {
      "needs_background": "light"
     },
     "output_type": "display_data"
    }
   ],
   "source": [
    "sns.violinplot(x = \"month\", y='price_per_person', data = df)"
   ]
  },
  {
   "cell_type": "code",
   "execution_count": 321,
   "id": "86e477c9",
   "metadata": {},
   "outputs": [
    {
     "data": {
      "text/plain": [
       "<AxesSubplot:xlabel='month', ylabel='price_per_person'>"
      ]
     },
     "execution_count": 321,
     "metadata": {},
     "output_type": "execute_result"
    },
    {
     "data": {
      "image/png": "[encoded data removed]",
      "text/plain": [
       "<Figure size 432x288 with 1 Axes>"
      ]
     },
     "metadata": {
      "needs_background": "light"
     },
     "output_type": "display_data"
    }
   ],
   "source": [
    "sns.boxplot(x=df['month'], y=np.log(df['price_per_person']))"
   ]
  },
  {
   "cell_type": "code",
   "execution_count": 322,
   "id": "5f9a5cce",
   "metadata": {},
   "outputs": [
    {
     "ename": "TypeError",
     "evalue": "ufunc 'log' not supported for the input types, and the inputs could not be safely coerced to any supported types according to the casting rule ''safe''",
     "output_type": "error",
     "traceback": [
      "\u001b[0;31m---------------------------------------------------------------------------\u001b[0m",
      "\u001b[0;31mTypeError\u001b[0m                                 Traceback (most recent call last)",
      "\u001b[0;32m/var/folders/ds/y52n864s4wl_xkm6j2ppj3v40000gn/T/ipykernel_15302/28348552.py\u001b[0m in \u001b[0;36m<module>\u001b[0;34m\u001b[0m\n\u001b[0;32m----> 1\u001b[0;31m \u001b[0msns\u001b[0m\u001b[0;34m.\u001b[0m\u001b[0mviolinplot\u001b[0m\u001b[0;34m(\u001b[0m\u001b[0mx\u001b[0m \u001b[0;34m=\u001b[0m \u001b[0;34m\"month\"\u001b[0m\u001b[0;34m,\u001b[0m \u001b[0my\u001b[0m\u001b[0;34m=\u001b[0m\u001b[0mnp\u001b[0m\u001b[0;34m.\u001b[0m\u001b[0mlog\u001b[0m\u001b[0;34m(\u001b[0m\u001b[0;34m'price_per_person'\u001b[0m\u001b[0;34m)\u001b[0m\u001b[0;34m,\u001b[0m \u001b[0mdata\u001b[0m \u001b[0;34m=\u001b[0m \u001b[0mdf\u001b[0m\u001b[0;34m)\u001b[0m\u001b[0;34m\u001b[0m\u001b[0;34m\u001b[0m\u001b[0m\n\u001b[0m",
      "\u001b[0;31mTypeError\u001b[0m: ufunc 'log' not supported for the input types, and the inputs could not be safely coerced to any supported types according to the casting rule ''safe''"
     ]
    }
   ],
   "source": [
    "# Why can't I use log?\n",
    "sns.violinplot(x = \"month\", y=np.log('price_per_person'), data = df)"
   ]
  },
  {
   "cell_type": "code",
   "execution_count": 323,
   "id": "0f72e2de",
   "metadata": {},
   "outputs": [
    {
     "data": {
      "text/plain": [
       "<AxesSubplot:title={'center':'Boxplot of price vs. number of people accommodated'}, xlabel='accommodates', ylabel='price_num'>"
      ]
     },
     "execution_count": 323,
     "metadata": {},
     "output_type": "execute_result"
    },
    {
     "data": {
      "image/png": "[encoded data removed]",
      "text/plain": [
       "<Figure size 1080x360 with 1 Axes>"
      ]
     },
     "metadata": {
      "needs_background": "light"
     },
     "output_type": "display_data"
    }
   ],
   "source": [
    "# How to do this by month?\n",
    "\n",
    "plt.figure(figsize=(15, 5))\n",
    "plt.title(\"Boxplot of price vs. number of people accommodated\")\n",
    "\n",
    "sns.boxplot(x = \"accommodates\", y='price_num', data = df)\n"
   ]
  },
  {
   "cell_type": "code",
   "execution_count": 335,
   "id": "81a35024",
   "metadata": {},
   "outputs": [
    {
     "data": {
      "text/html": [
       "<div>\n",
       "<style scoped>\n",
       "    .dataframe tbody tr th:only-of-type {\n",
       "        vertical-align: middle;\n",
       "    }\n",
       "\n",
       "    .dataframe tbody tr th {\n",
       "        vertical-align: top;\n",
       "    }\n",
       "\n",
       "    .dataframe thead th {\n",
       "        text-align: right;\n",
       "    }\n",
       "</style>\n",
       "<table border=\"1\" class=\"dataframe\">\n",
       "  <thead>\n",
       "    <tr style=\"text-align: right;\">\n",
       "      <th></th>\n",
       "      <th>price_num</th>\n",
       "      <th>bedrooms</th>\n",
       "      <th>accommodates</th>\n",
       "    </tr>\n",
       "  </thead>\n",
       "  <tbody>\n",
       "    <tr>\n",
       "      <th>price_num</th>\n",
       "      <td>1.000000</td>\n",
       "      <td>0.501483</td>\n",
       "      <td>0.515901</td>\n",
       "    </tr>\n",
       "    <tr>\n",
       "      <th>bedrooms</th>\n",
       "      <td>0.501483</td>\n",
       "      <td>1.000000</td>\n",
       "      <td>0.793907</td>\n",
       "    </tr>\n",
       "    <tr>\n",
       "      <th>accommodates</th>\n",
       "      <td>0.515901</td>\n",
       "      <td>0.793907</td>\n",
       "      <td>1.000000</td>\n",
       "    </tr>\n",
       "  </tbody>\n",
       "</table>\n",
       "</div>"
      ],
      "text/plain": [
       "              price_num  bedrooms  accommodates\n",
       "price_num      1.000000  0.501483      0.515901\n",
       "bedrooms       0.501483  1.000000      0.793907\n",
       "accommodates   0.515901  0.793907      1.000000"
      ]
     },
     "execution_count": 335,
     "metadata": {},
     "output_type": "execute_result"
    }
   ],
   "source": [
    "# How to do this by month?\n",
    "\n",
    "df[['price_num','bedrooms', 'accommodates']].corr()"
   ]
  },
  {
   "cell_type": "markdown",
   "id": "af88cc8d",
   "metadata": {},
   "source": [
    "# Conclusions\n",
    "- Can we see any patterns at all?\n",
    "- Correlation at best -> caution when interpreting."
   ]
  },
  {
   "cell_type": "markdown",
   "id": "c16b8944",
   "metadata": {},
   "source": [
    "# Part 2 - Linear regression on price variable"
   ]
  },
  {
   "cell_type": "markdown",
   "id": "88f31e6b",
   "metadata": {},
   "source": []
  },
  {
   "cell_type": "code",
   "execution_count": 339,
   "id": "a72d38b0",
   "metadata": {},
   "outputs": [],
   "source": [
    "X = df[['accommodates', 'month']]\n",
    "y = df['price_num']"
   ]
  },
  {
   "cell_type": "code",
   "execution_count": 340,
   "id": "52f4685d",
   "metadata": {},
   "outputs": [],
   "source": [
    "from sklearn.model_selection import train_test_split\n",
    "X_train, X_test, y_train, y_test = train_test_split(X, y, test_size=0.4)"
   ]
  },
  {
   "cell_type": "code",
   "execution_count": 341,
   "id": "d50f62ec",
   "metadata": {},
   "outputs": [
    {
     "data": {
      "text/plain": [
       "LinearRegression()"
      ]
     },
     "execution_count": 341,
     "metadata": {},
     "output_type": "execute_result"
    }
   ],
   "source": [
    "from sklearn.linear_model import LinearRegression\n",
    "lr = LinearRegression()\n",
    "lr.fit(X_train, y_train)"
   ]
  },
  {
   "cell_type": "code",
   "execution_count": 342,
   "id": "b5d248f4",
   "metadata": {},
   "outputs": [
    {
     "name": "stdout",
     "output_type": "stream",
     "text": [
      "alpha is 9.106432464320449\n",
      "beta is [30.38500424 12.90724656]\n"
     ]
    }
   ],
   "source": [
    "print('alpha is',lr.intercept_)\n",
    "print('beta is', lr.coef_)"
   ]
  },
  {
   "cell_type": "code",
   "execution_count": 343,
   "id": "859b4dd3",
   "metadata": {},
   "outputs": [
    {
     "data": {
      "text/plain": [
       "array([ 69.87644095, 100.26144519, 143.55369599, ...,  82.7836875 ,\n",
       "       161.03145368, 113.16869175])"
      ]
     },
     "execution_count": 343,
     "metadata": {},
     "output_type": "execute_result"
    }
   ],
   "source": [
    "lr.predict(X_test)"
   ]
  },
  {
   "cell_type": "code",
   "execution_count": 347,
   "id": "c4112c7f",
   "metadata": {},
   "outputs": [
    {
     "data": {
      "text/html": [
       "<div>\n",
       "<style scoped>\n",
       "    .dataframe tbody tr th:only-of-type {\n",
       "        vertical-align: middle;\n",
       "    }\n",
       "\n",
       "    .dataframe tbody tr th {\n",
       "        vertical-align: top;\n",
       "    }\n",
       "\n",
       "    .dataframe thead th {\n",
       "        text-align: right;\n",
       "    }\n",
       "</style>\n",
       "<table border=\"1\" class=\"dataframe\">\n",
       "  <thead>\n",
       "    <tr style=\"text-align: right;\">\n",
       "      <th></th>\n",
       "      <th>predicted</th>\n",
       "      <th>actual</th>\n",
       "      <th>difference</th>\n",
       "    </tr>\n",
       "  </thead>\n",
       "  <tbody>\n",
       "    <tr>\n",
       "      <th>15120</th>\n",
       "      <td>69.876441</td>\n",
       "      <td>50.0</td>\n",
       "      <td>19.876441</td>\n",
       "    </tr>\n",
       "    <tr>\n",
       "      <th>41036</th>\n",
       "      <td>100.261445</td>\n",
       "      <td>250.0</td>\n",
       "      <td>-149.738555</td>\n",
       "    </tr>\n",
       "    <tr>\n",
       "      <th>107769</th>\n",
       "      <td>143.553696</td>\n",
       "      <td>906.0</td>\n",
       "      <td>-762.446304</td>\n",
       "    </tr>\n",
       "    <tr>\n",
       "      <th>98353</th>\n",
       "      <td>52.398683</td>\n",
       "      <td>100.0</td>\n",
       "      <td>-47.601317</td>\n",
       "    </tr>\n",
       "    <tr>\n",
       "      <th>25530</th>\n",
       "      <td>191.416458</td>\n",
       "      <td>175.0</td>\n",
       "      <td>16.416458</td>\n",
       "    </tr>\n",
       "    <tr>\n",
       "      <th>...</th>\n",
       "      <td>...</td>\n",
       "      <td>...</td>\n",
       "      <td>...</td>\n",
       "    </tr>\n",
       "    <tr>\n",
       "      <th>130992</th>\n",
       "      <td>143.553696</td>\n",
       "      <td>875.0</td>\n",
       "      <td>-731.446304</td>\n",
       "    </tr>\n",
       "    <tr>\n",
       "      <th>142923</th>\n",
       "      <td>82.783688</td>\n",
       "      <td>35.0</td>\n",
       "      <td>47.783688</td>\n",
       "    </tr>\n",
       "    <tr>\n",
       "      <th>150348</th>\n",
       "      <td>82.783688</td>\n",
       "      <td>90.0</td>\n",
       "      <td>-7.216312</td>\n",
       "    </tr>\n",
       "    <tr>\n",
       "      <th>15893</th>\n",
       "      <td>161.031454</td>\n",
       "      <td>284.0</td>\n",
       "      <td>-122.968546</td>\n",
       "    </tr>\n",
       "    <tr>\n",
       "      <th>128266</th>\n",
       "      <td>113.168692</td>\n",
       "      <td>65.0</td>\n",
       "      <td>48.168692</td>\n",
       "    </tr>\n",
       "  </tbody>\n",
       "</table>\n",
       "<p>59909 rows × 3 columns</p>\n",
       "</div>"
      ],
      "text/plain": [
       "         predicted  actual  difference\n",
       "15120    69.876441    50.0   19.876441\n",
       "41036   100.261445   250.0 -149.738555\n",
       "107769  143.553696   906.0 -762.446304\n",
       "98353    52.398683   100.0  -47.601317\n",
       "25530   191.416458   175.0   16.416458\n",
       "...            ...     ...         ...\n",
       "130992  143.553696   875.0 -731.446304\n",
       "142923   82.783688    35.0   47.783688\n",
       "150348   82.783688    90.0   -7.216312\n",
       "15893   161.031454   284.0 -122.968546\n",
       "128266  113.168692    65.0   48.168692\n",
       "\n",
       "[59909 rows x 3 columns]"
      ]
     },
     "execution_count": 347,
     "metadata": {},
     "output_type": "execute_result"
    }
   ],
   "source": [
    "# Objective / loss function\n",
    "test_result = pd.DataFrame({ 'predicted': lr.predict(X_test), 'actual': y_test, 'difference': lr.predict(X_test) - y_test})\n",
    "test_result"
   ]
  },
  {
   "cell_type": "markdown",
   "id": "8ed516a4",
   "metadata": {},
   "source": [
    "I need to go back over the regression portion to see what else there is to do. None of the files I have seem to include this."
   ]
  },
  {
   "cell_type": "code",
   "execution_count": null,
   "id": "04dc250e",
   "metadata": {},
   "outputs": [],
   "source": []
  },
  {
   "cell_type": "code",
   "execution_count": 352,
   "id": "46fe6249",
   "metadata": {},
   "outputs": [],
   "source": [
    "# Cross validation\n",
    "\n",
    "from sklearn.model_selection import cross_val_score\n",
    "from sklearn.model_selection import KFold"
   ]
  },
  {
   "cell_type": "code",
   "execution_count": 353,
   "id": "f4ce51c0",
   "metadata": {},
   "outputs": [
    {
     "name": "stderr",
     "output_type": "stream",
     "text": [
      "/opt/homebrew/Caskroom/miniforge/base/envs/ds/lib/python3.8/site-packages/sklearn/model_selection/_validation.py:771: UserWarning: Scoring failed. The score on this train-test partition for these parameters will be set to nan. Details: \n",
      "Traceback (most recent call last):\n",
      "  File \"/opt/homebrew/Caskroom/miniforge/base/envs/ds/lib/python3.8/site-packages/sklearn/model_selection/_validation.py\", line 762, in _score\n",
      "    scores = scorer(estimator, X_test, y_test)\n",
      "  File \"/opt/homebrew/Caskroom/miniforge/base/envs/ds/lib/python3.8/site-packages/sklearn/metrics/_scorer.py\", line 103, in __call__\n",
      "    score = scorer._score(cached_call, estimator, *args, **kwargs)\n",
      "  File \"/opt/homebrew/Caskroom/miniforge/base/envs/ds/lib/python3.8/site-packages/sklearn/metrics/_scorer.py\", line 264, in _score\n",
      "    return self._sign * self._score_func(y_true, y_pred, **self._kwargs)\n",
      "  File \"/opt/homebrew/Caskroom/miniforge/base/envs/ds/lib/python3.8/site-packages/sklearn/metrics/_classification.py\", line 205, in accuracy_score\n",
      "    y_type, y_true, y_pred = _check_targets(y_true, y_pred)\n",
      "  File \"/opt/homebrew/Caskroom/miniforge/base/envs/ds/lib/python3.8/site-packages/sklearn/metrics/_classification.py\", line 104, in _check_targets\n",
      "    raise ValueError(\"{0} is not supported\".format(y_type))\n",
      "ValueError: continuous is not supported\n",
      "\n",
      "  warnings.warn(\n",
      "/opt/homebrew/Caskroom/miniforge/base/envs/ds/lib/python3.8/site-packages/sklearn/model_selection/_validation.py:771: UserWarning: Scoring failed. The score on this train-test partition for these parameters will be set to nan. Details: \n",
      "Traceback (most recent call last):\n",
      "  File \"/opt/homebrew/Caskroom/miniforge/base/envs/ds/lib/python3.8/site-packages/sklearn/model_selection/_validation.py\", line 762, in _score\n",
      "    scores = scorer(estimator, X_test, y_test)\n",
      "  File \"/opt/homebrew/Caskroom/miniforge/base/envs/ds/lib/python3.8/site-packages/sklearn/metrics/_scorer.py\", line 103, in __call__\n",
      "    score = scorer._score(cached_call, estimator, *args, **kwargs)\n",
      "  File \"/opt/homebrew/Caskroom/miniforge/base/envs/ds/lib/python3.8/site-packages/sklearn/metrics/_scorer.py\", line 264, in _score\n",
      "    return self._sign * self._score_func(y_true, y_pred, **self._kwargs)\n",
      "  File \"/opt/homebrew/Caskroom/miniforge/base/envs/ds/lib/python3.8/site-packages/sklearn/metrics/_classification.py\", line 205, in accuracy_score\n",
      "    y_type, y_true, y_pred = _check_targets(y_true, y_pred)\n",
      "  File \"/opt/homebrew/Caskroom/miniforge/base/envs/ds/lib/python3.8/site-packages/sklearn/metrics/_classification.py\", line 93, in _check_targets\n",
      "    raise ValueError(\n",
      "ValueError: Classification metrics can't handle a mix of multiclass and continuous targets\n",
      "\n",
      "  warnings.warn(\n",
      "/opt/homebrew/Caskroom/miniforge/base/envs/ds/lib/python3.8/site-packages/sklearn/model_selection/_validation.py:771: UserWarning: Scoring failed. The score on this train-test partition for these parameters will be set to nan. Details: \n",
      "Traceback (most recent call last):\n",
      "  File \"/opt/homebrew/Caskroom/miniforge/base/envs/ds/lib/python3.8/site-packages/sklearn/model_selection/_validation.py\", line 762, in _score\n",
      "    scores = scorer(estimator, X_test, y_test)\n",
      "  File \"/opt/homebrew/Caskroom/miniforge/base/envs/ds/lib/python3.8/site-packages/sklearn/metrics/_scorer.py\", line 103, in __call__\n",
      "    score = scorer._score(cached_call, estimator, *args, **kwargs)\n",
      "  File \"/opt/homebrew/Caskroom/miniforge/base/envs/ds/lib/python3.8/site-packages/sklearn/metrics/_scorer.py\", line 264, in _score\n",
      "    return self._sign * self._score_func(y_true, y_pred, **self._kwargs)\n",
      "  File \"/opt/homebrew/Caskroom/miniforge/base/envs/ds/lib/python3.8/site-packages/sklearn/metrics/_classification.py\", line 205, in accuracy_score\n",
      "    y_type, y_true, y_pred = _check_targets(y_true, y_pred)\n",
      "  File \"/opt/homebrew/Caskroom/miniforge/base/envs/ds/lib/python3.8/site-packages/sklearn/metrics/_classification.py\", line 93, in _check_targets\n",
      "    raise ValueError(\n",
      "ValueError: Classification metrics can't handle a mix of multiclass and continuous targets\n",
      "\n",
      "  warnings.warn(\n",
      "/opt/homebrew/Caskroom/miniforge/base/envs/ds/lib/python3.8/site-packages/sklearn/model_selection/_validation.py:771: UserWarning: Scoring failed. The score on this train-test partition for these parameters will be set to nan. Details: \n",
      "Traceback (most recent call last):\n",
      "  File \"/opt/homebrew/Caskroom/miniforge/base/envs/ds/lib/python3.8/site-packages/sklearn/model_selection/_validation.py\", line 762, in _score\n",
      "    scores = scorer(estimator, X_test, y_test)\n",
      "  File \"/opt/homebrew/Caskroom/miniforge/base/envs/ds/lib/python3.8/site-packages/sklearn/metrics/_scorer.py\", line 103, in __call__\n",
      "    score = scorer._score(cached_call, estimator, *args, **kwargs)\n",
      "  File \"/opt/homebrew/Caskroom/miniforge/base/envs/ds/lib/python3.8/site-packages/sklearn/metrics/_scorer.py\", line 264, in _score\n",
      "    return self._sign * self._score_func(y_true, y_pred, **self._kwargs)\n",
      "  File \"/opt/homebrew/Caskroom/miniforge/base/envs/ds/lib/python3.8/site-packages/sklearn/metrics/_classification.py\", line 205, in accuracy_score\n",
      "    y_type, y_true, y_pred = _check_targets(y_true, y_pred)\n",
      "  File \"/opt/homebrew/Caskroom/miniforge/base/envs/ds/lib/python3.8/site-packages/sklearn/metrics/_classification.py\", line 93, in _check_targets\n",
      "    raise ValueError(\n",
      "ValueError: Classification metrics can't handle a mix of multiclass and continuous targets\n",
      "\n",
      "  warnings.warn(\n",
      "/opt/homebrew/Caskroom/miniforge/base/envs/ds/lib/python3.8/site-packages/sklearn/model_selection/_validation.py:771: UserWarning: Scoring failed. The score on this train-test partition for these parameters will be set to nan. Details: \n",
      "Traceback (most recent call last):\n",
      "  File \"/opt/homebrew/Caskroom/miniforge/base/envs/ds/lib/python3.8/site-packages/sklearn/model_selection/_validation.py\", line 762, in _score\n",
      "    scores = scorer(estimator, X_test, y_test)\n",
      "  File \"/opt/homebrew/Caskroom/miniforge/base/envs/ds/lib/python3.8/site-packages/sklearn/metrics/_scorer.py\", line 103, in __call__\n",
      "    score = scorer._score(cached_call, estimator, *args, **kwargs)\n",
      "  File \"/opt/homebrew/Caskroom/miniforge/base/envs/ds/lib/python3.8/site-packages/sklearn/metrics/_scorer.py\", line 264, in _score\n",
      "    return self._sign * self._score_func(y_true, y_pred, **self._kwargs)\n",
      "  File \"/opt/homebrew/Caskroom/miniforge/base/envs/ds/lib/python3.8/site-packages/sklearn/metrics/_classification.py\", line 205, in accuracy_score\n",
      "    y_type, y_true, y_pred = _check_targets(y_true, y_pred)\n",
      "  File \"/opt/homebrew/Caskroom/miniforge/base/envs/ds/lib/python3.8/site-packages/sklearn/metrics/_classification.py\", line 93, in _check_targets\n",
      "    raise ValueError(\n",
      "ValueError: Classification metrics can't handle a mix of multiclass and continuous targets\n",
      "\n",
      "  warnings.warn(\n"
     ]
    },
    {
     "data": {
      "text/plain": [
       "array([nan, nan, nan, nan, nan])"
      ]
     },
     "execution_count": 353,
     "metadata": {},
     "output_type": "execute_result"
    }
   ],
   "source": [
    "lm = LinearRegression()\n",
    "folds = KFold(n_splits = 5, shuffle = True, random_state = 100)\n",
    "cross_val_score(lm, X_train, y_train, scoring='accuracy', cv=folds)"
   ]
  },
  {
   "cell_type": "code",
   "execution_count": 354,
   "id": "530ecf1f",
   "metadata": {},
   "outputs": [
    {
     "name": "stderr",
     "output_type": "stream",
     "text": [
      "/opt/homebrew/Caskroom/miniforge/base/envs/ds/lib/python3.8/site-packages/sklearn/model_selection/_validation.py:771: UserWarning: Scoring failed. The score on this train-test partition for these parameters will be set to nan. Details: \n",
      "Traceback (most recent call last):\n",
      "  File \"/opt/homebrew/Caskroom/miniforge/base/envs/ds/lib/python3.8/site-packages/sklearn/model_selection/_validation.py\", line 762, in _score\n",
      "    scores = scorer(estimator, X_test, y_test)\n",
      "  File \"/opt/homebrew/Caskroom/miniforge/base/envs/ds/lib/python3.8/site-packages/sklearn/metrics/_scorer.py\", line 103, in __call__\n",
      "    score = scorer._score(cached_call, estimator, *args, **kwargs)\n",
      "  File \"/opt/homebrew/Caskroom/miniforge/base/envs/ds/lib/python3.8/site-packages/sklearn/metrics/_scorer.py\", line 349, in _score\n",
      "    raise ValueError(\"{0} format is not supported\".format(y_type))\n",
      "ValueError: continuous format is not supported\n",
      "\n",
      "  warnings.warn(\n",
      "/opt/homebrew/Caskroom/miniforge/base/envs/ds/lib/python3.8/site-packages/sklearn/model_selection/_validation.py:771: UserWarning: Scoring failed. The score on this train-test partition for these parameters will be set to nan. Details: \n",
      "Traceback (most recent call last):\n",
      "  File \"/opt/homebrew/Caskroom/miniforge/base/envs/ds/lib/python3.8/site-packages/sklearn/model_selection/_validation.py\", line 762, in _score\n",
      "    scores = scorer(estimator, X_test, y_test)\n",
      "  File \"/opt/homebrew/Caskroom/miniforge/base/envs/ds/lib/python3.8/site-packages/sklearn/metrics/_scorer.py\", line 103, in __call__\n",
      "    score = scorer._score(cached_call, estimator, *args, **kwargs)\n",
      "  File \"/opt/homebrew/Caskroom/miniforge/base/envs/ds/lib/python3.8/site-packages/sklearn/metrics/_scorer.py\", line 349, in _score\n",
      "    raise ValueError(\"{0} format is not supported\".format(y_type))\n",
      "ValueError: multiclass format is not supported\n",
      "\n",
      "  warnings.warn(\n",
      "/opt/homebrew/Caskroom/miniforge/base/envs/ds/lib/python3.8/site-packages/sklearn/model_selection/_validation.py:771: UserWarning: Scoring failed. The score on this train-test partition for these parameters will be set to nan. Details: \n",
      "Traceback (most recent call last):\n",
      "  File \"/opt/homebrew/Caskroom/miniforge/base/envs/ds/lib/python3.8/site-packages/sklearn/model_selection/_validation.py\", line 762, in _score\n",
      "    scores = scorer(estimator, X_test, y_test)\n",
      "  File \"/opt/homebrew/Caskroom/miniforge/base/envs/ds/lib/python3.8/site-packages/sklearn/metrics/_scorer.py\", line 103, in __call__\n",
      "    score = scorer._score(cached_call, estimator, *args, **kwargs)\n",
      "  File \"/opt/homebrew/Caskroom/miniforge/base/envs/ds/lib/python3.8/site-packages/sklearn/metrics/_scorer.py\", line 349, in _score\n",
      "    raise ValueError(\"{0} format is not supported\".format(y_type))\n",
      "ValueError: multiclass format is not supported\n",
      "\n",
      "  warnings.warn(\n",
      "/opt/homebrew/Caskroom/miniforge/base/envs/ds/lib/python3.8/site-packages/sklearn/model_selection/_validation.py:771: UserWarning: Scoring failed. The score on this train-test partition for these parameters will be set to nan. Details: \n",
      "Traceback (most recent call last):\n",
      "  File \"/opt/homebrew/Caskroom/miniforge/base/envs/ds/lib/python3.8/site-packages/sklearn/model_selection/_validation.py\", line 762, in _score\n",
      "    scores = scorer(estimator, X_test, y_test)\n",
      "  File \"/opt/homebrew/Caskroom/miniforge/base/envs/ds/lib/python3.8/site-packages/sklearn/metrics/_scorer.py\", line 103, in __call__\n",
      "    score = scorer._score(cached_call, estimator, *args, **kwargs)\n",
      "  File \"/opt/homebrew/Caskroom/miniforge/base/envs/ds/lib/python3.8/site-packages/sklearn/metrics/_scorer.py\", line 349, in _score\n",
      "    raise ValueError(\"{0} format is not supported\".format(y_type))\n",
      "ValueError: multiclass format is not supported\n",
      "\n",
      "  warnings.warn(\n",
      "/opt/homebrew/Caskroom/miniforge/base/envs/ds/lib/python3.8/site-packages/sklearn/model_selection/_validation.py:771: UserWarning: Scoring failed. The score on this train-test partition for these parameters will be set to nan. Details: \n",
      "Traceback (most recent call last):\n",
      "  File \"/opt/homebrew/Caskroom/miniforge/base/envs/ds/lib/python3.8/site-packages/sklearn/model_selection/_validation.py\", line 762, in _score\n",
      "    scores = scorer(estimator, X_test, y_test)\n",
      "  File \"/opt/homebrew/Caskroom/miniforge/base/envs/ds/lib/python3.8/site-packages/sklearn/metrics/_scorer.py\", line 103, in __call__\n",
      "    score = scorer._score(cached_call, estimator, *args, **kwargs)\n",
      "  File \"/opt/homebrew/Caskroom/miniforge/base/envs/ds/lib/python3.8/site-packages/sklearn/metrics/_scorer.py\", line 349, in _score\n",
      "    raise ValueError(\"{0} format is not supported\".format(y_type))\n",
      "ValueError: multiclass format is not supported\n",
      "\n",
      "  warnings.warn(\n"
     ]
    },
    {
     "data": {
      "text/plain": [
       "array([nan, nan, nan, nan, nan])"
      ]
     },
     "execution_count": 354,
     "metadata": {},
     "output_type": "execute_result"
    }
   ],
   "source": [
    "cross_val_score(lm, X_train, y_train, scoring='roc_auc', cv=folds)"
   ]
  },
  {
   "cell_type": "code",
   "execution_count": null,
   "id": "46e2e82b",
   "metadata": {},
   "outputs": [],
   "source": []
  }
 ],
 "metadata": {
  "kernelspec": {
   "display_name": "Python 3 (ipykernel)",
   "language": "python",
   "name": "python3"
  },
  "language_info": {
   "codemirror_mode": {
    "name": "ipython",
    "version": 3
   },
   "file_extension": ".py",
   "mimetype": "text/x-python",
   "name": "python",
   "nbconvert_exporter": "python",
   "pygments_lexer": "ipython3",
   "version": "3.8.12"
  }
 },
 "nbformat": 4,
 "nbformat_minor": 5
}
