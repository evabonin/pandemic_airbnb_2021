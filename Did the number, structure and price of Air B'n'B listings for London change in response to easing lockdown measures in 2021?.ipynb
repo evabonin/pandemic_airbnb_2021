{
 "cells": [
  {
   "cell_type": "markdown",
   "id": "55b33a89",
   "metadata": {},
   "source": [
    "# Background\n",
    "## UK lockdown measures in 2021\n",
    "Up to June 2021:\n",
    "https://www.instituteforgovernment.org.uk/charts/uk-government-coronavirus-lockdowns\n",
    "\n",
    "## Hypotheses\n",
    "Stricter lockdown measures may affect host and guest behaviour. In particular, it may affect\n",
    "- The number of listings (hypothesis: fewer)\n",
    "- The type of listings (hypothesis: increase in prpoportion of listings offering whole place vs shared)\n",
    "- The price (hypothesis: increase in price to reflect additional cleaning and security costs)\n",
    "[might be better to phrase this the other way around, as lockdown measures were easing from January - June.]\n",
    "\n",
    "# Method\n",
    "## Data\n",
    "Comparison of number of listings, type of listing and price of listing [does price need to be adjusted for something, e.g. price per person?] for January - June 2021 [could do for a longer period but starting with this].\n",
    "## Analysis\n",
    "- Categorising lockdown measures into \"milder\" and \"stronger\" based on whether they are easing or tightening [based on graph referenced above].\n",
    "(- Summary statistics: counts, means, medians, measures of dispersion) [less interested in this so doing this later - but good to do for sense check etc.]\n",
    "- Graphs: plotting stats against level of restrictions [still thinking about the best way of doing this]\n",
    "\n",
    "## Handling missing data\n",
    "Add."
   ]
  },
  {
   "cell_type": "markdown",
   "id": "8f23c1b2",
   "metadata": {},
   "source": [
    "# Loading packages"
   ]
  },
  {
   "cell_type": "code",
   "execution_count": null,
   "id": "7de70009",
   "metadata": {},
   "outputs": [],
   "source": []
  },
  {
   "cell_type": "markdown",
   "id": "c9e79102",
   "metadata": {},
   "source": [
    "# Loading and merging Air BnB data\n"
   ]
  },
  {
   "cell_type": "markdown",
   "id": "6bc4c155",
   "metadata": {},
   "source": [
    "# Creating dataframe / variable of lockdown measures\n"
   ]
  },
  {
   "cell_type": "markdown",
   "id": "24f3c3ea",
   "metadata": {},
   "source": [
    "# Summary stats - later"
   ]
  },
  {
   "cell_type": "code",
   "execution_count": null,
   "id": "a4a69450",
   "metadata": {},
   "outputs": [],
   "source": []
  },
  {
   "cell_type": "markdown",
   "id": "89650874",
   "metadata": {},
   "source": [
    "# Graphs\n",
    "All of these against the severity of lockdown measures [how to represent this in the graph?]\n",
    "(1) Stacked bar charts for type of listing\n",
    "(2) Line graph for number of listings\n",
    "(3) Line graph of mean (?) price with standard deviations as shaded areas: https://stackoverflow.com/questions/12957582/plot-yerr-xerr-as-shaded-region-rather-than-error-bars"
   ]
  },
  {
   "cell_type": "markdown",
   "id": "c79eeb39",
   "metadata": {},
   "source": [
    "## Graph 1"
   ]
  },
  {
   "cell_type": "code",
   "execution_count": null,
   "id": "f5a1bfad",
   "metadata": {},
   "outputs": [],
   "source": []
  },
  {
   "cell_type": "markdown",
   "id": "301b8147",
   "metadata": {},
   "source": [
    "## Graph 2"
   ]
  },
  {
   "cell_type": "code",
   "execution_count": null,
   "id": "6134239c",
   "metadata": {},
   "outputs": [],
   "source": []
  },
  {
   "cell_type": "markdown",
   "id": "b469d6ae",
   "metadata": {},
   "source": [
    "## Graph 3"
   ]
  },
  {
   "cell_type": "code",
   "execution_count": null,
   "id": "e46f4cb1",
   "metadata": {},
   "outputs": [],
   "source": []
  },
  {
   "cell_type": "markdown",
   "id": "af88cc8d",
   "metadata": {},
   "source": [
    "# Conclusions\n",
    "- Can we see any patterns at all?\n",
    "- Correlation at best -> caution when interpreting."
   ]
  }
 ],
 "metadata": {
  "kernelspec": {
   "display_name": "Python 3 (ipykernel)",
   "language": "python",
   "name": "python3"
  },
  "language_info": {
   "codemirror_mode": {
    "name": "ipython",
    "version": 3
   },
   "file_extension": ".py",
   "mimetype": "text/x-python",
   "name": "python",
   "nbconvert_exporter": "python",
   "pygments_lexer": "ipython3",
   "version": "3.8.12"
  }
 },
 "nbformat": 4,
 "nbformat_minor": 5
}
