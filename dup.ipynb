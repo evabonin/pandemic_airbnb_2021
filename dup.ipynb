{
 "cells": [
  {
   "cell_type": "markdown",
   "id": "55b33a89",
   "metadata": {},
   "source": [
    "# Background\n",
    "## UK lockdown measures in 2021\n",
    "Up to July 2021:\n",
    "https://www.instituteforgovernment.org.uk/charts/uk-government-coronavirus-lockdowns\n",
    "\n",
    "## Hypotheses\n",
    "Stricter lockdown measures may affect host and guest behaviour. In particular, it may affect\n",
    "- The number of listings (hypothesis: fewer)\n",
    "- The type of listings (hypothesis: increase in prpoportion of listings offering whole place vs shared)\n",
    "- The price (hypothesis: increase in price to reflect additional cleaning and security costs)\n",
    "[might be better to phrase this the other way around, as lockdown measures were easing from January - July.]\n",
    "\n",
    "# Method\n",
    "## Data\n",
    "Comparison of number of listings, type of listing and price of listing [does price need to be adjusted for something, e.g. price per person?] for January - June 2021 [no data available for May].\n",
    "## Analysis\n",
    "- Categorising lockdown measures into \"milder\" and \"stronger\" based on whether they are easing or tightening [based on graph referenced above].\n",
    "(- Summary statistics: counts, means, medians, measures of dispersion) [less interested in this so doing this later - but good to do for sense check etc.]\n",
    "- Graphs: plotting stats against level of restrictions [still thinking about the best way of doing this]\n",
    "\n",
    "## Handling missing data\n",
    "Add."
   ]
  },
  {
   "cell_type": "markdown",
   "id": "8f23c1b2",
   "metadata": {},
   "source": [
    "# Loading packages"
   ]
  },
  {
   "cell_type": "code",
   "execution_count": 96,
   "id": "7de70009",
   "metadata": {},
   "outputs": [],
   "source": [
    "import pandas as pd\n",
    "#import pandas_profiling\n",
    "from matplotlib import pyplot as plt\n",
    "import seaborn as sns"
   ]
  },
  {
   "cell_type": "markdown",
   "id": "c9e79102",
   "metadata": {},
   "source": [
    "# Loading Air BnB data\n"
   ]
  },
  {
   "cell_type": "code",
   "execution_count": 106,
   "id": "b3a623c2",
   "metadata": {},
   "outputs": [],
   "source": [
    "# as temporary dfs initially as will be dropping vars later\n",
    "\n",
    "# January\n",
    "temp_l1 = pd.read_csv('data/listings_1.csv', delimiter=',')\n",
    "# February etc.\n",
    "temp_l2 = pd.read_csv('data/listings_2.csv', delimiter=',')\n",
    "temp_l3 = pd.read_csv('data/listings_3.csv', delimiter=',')\n",
    "temp_l4 = pd.read_csv('data/listings_4.csv', delimiter=',')\n",
    "# Data for May not available \n",
    "temp_l6 = pd.read_csv('data/listings_6.csv', delimiter=',')\n",
    "temp_l7 = pd.read_csv('data/listings_7.csv', delimiter=',')"
   ]
  },
  {
   "cell_type": "markdown",
   "id": "03cbd2e2",
   "metadata": {},
   "source": [
    "## Looking at January and July data to start with"
   ]
  },
  {
   "cell_type": "code",
   "execution_count": 107,
   "id": "09cebe42",
   "metadata": {},
   "outputs": [],
   "source": [
    "#printl1.info(verbose=True)"
   ]
  },
  {
   "cell_type": "markdown",
   "id": "110c1e51",
   "metadata": {},
   "source": [
    "Variables of interest for later:\n",
    "\n",
    "\n",
    "calculated_host_listings_count \n",
    "calculated_host_listings_count_entire_homes\n",
    "calculated_host_listings_count_private_rooms \n",
    "calculated_host_listings_count_shared_rooms"
   ]
  },
  {
   "cell_type": "markdown",
   "id": "8fd63b7b",
   "metadata": {},
   "source": [
    "## Data cleaning"
   ]
  },
  {
   "cell_type": "markdown",
   "id": "428737ce",
   "metadata": {},
   "source": [
    "### Reducing number of vars in dataset\n",
    "\n",
    "Keeping only variables taht seems relevant to the question at hand"
   ]
  },
  {
   "cell_type": "code",
   "execution_count": 143,
   "id": "a17c2582",
   "metadata": {},
   "outputs": [
    {
     "name": "stdout",
     "output_type": "stream",
     "text": [
      "<class 'pandas.core.frame.DataFrame'>\n",
      "RangeIndex: 77346 entries, 0 to 77345\n",
      "Data columns (total 23 columns):\n",
      " #   Column                                        Non-Null Count  Dtype  \n",
      "---  ------                                        --------------  -----  \n",
      " 0   property_type                                 77346 non-null  object \n",
      " 1   room_type                                     77346 non-null  object \n",
      " 2   accommodates                                  77346 non-null  int64  \n",
      " 3   bathrooms                                     0 non-null      float64\n",
      " 4   bedrooms                                      72458 non-null  float64\n",
      " 5   beds                                          76165 non-null  float64\n",
      " 6   amenities                                     77346 non-null  object \n",
      " 7   price                                         77346 non-null  object \n",
      " 8   minimum_nights                                77346 non-null  int64  \n",
      " 9   maximum_nights                                77346 non-null  int64  \n",
      " 10  has_availability                              77346 non-null  object \n",
      " 11  review_scores_accuracy                        53097 non-null  float64\n",
      " 12  review_scores_cleanliness                     53106 non-null  float64\n",
      " 13  review_scores_checkin                         53050 non-null  float64\n",
      " 14  review_scores_communication                   53099 non-null  float64\n",
      " 15  review_scores_location                        53051 non-null  float64\n",
      " 16  review_scores_value                           53050 non-null  float64\n",
      " 17  calculated_host_listings_count                77346 non-null  int64  \n",
      " 18  calculated_host_listings_count_entire_homes   77346 non-null  int64  \n",
      " 19  calculated_host_listings_count_private_rooms  77346 non-null  int64  \n",
      " 20  calculated_host_listings_count_shared_rooms   77346 non-null  int64  \n",
      " 21  reviews_per_month                             54906 non-null  float64\n",
      " 22  month                                         77346 non-null  object \n",
      "dtypes: float64(10), int64(7), object(6)\n",
      "memory usage: 13.6+ MB\n"
     ]
    }
   ],
   "source": [
    "# Various attempts at either dropping ranges of columns, or keeping ranges of columns, but not sure how to do that\n",
    "\n",
    "#cols = [[:, 0:30], 35, 48, 54:59, 67]\n",
    "#cols = [0:30,35, 48, 67]\n",
    "#l1.drop(l1.iloc[:, 0:30],axis=1,inplace=True)\n",
    "#l1.info(verbose=True)\n",
    "#l1 = l1.drop(l1.iloc[:, 54:59],axis=1,inplace=True)\n",
    "#l1.drop(l1.columns[cols],axis=1,inplace=True)\n",
    "\n",
    "\n",
    "# list of variables to keep\n",
    "#keep_vars = ['property_type','room_type','accommodates','bathrooms', 'bedrooms','beds', 'amenities','price','minimum_nights','maximum_nights','has_availability','review_scores_accuracy','review_scores_cleanliness','review_scores_checkin','review_scores_communication','review_scores_location','review_scores_value','calculated_host_listings_count','calculated_host_listings_count_entire_homes','calculated_host_listings_count_private_rooms','calculated_host_listings_count_shared_rooms','reviews_per_month']\n",
    "keep_vars = ['property_type','room_type','accommodates','bathrooms', 'bedrooms','beds', 'amenities','price','minimum_nights','maximum_nights','has_availability','review_scores_accuracy','review_scores_cleanliness','review_scores_checkin','review_scores_communication','review_scores_location','review_scores_value','calculated_host_listings_count','calculated_host_listings_count_entire_homes','calculated_host_listings_count_private_rooms','calculated_host_listings_count_shared_rooms','reviews_per_month']\n",
    "\n",
    "\n",
    "l1 = temp_l1.loc[:, keep_vars]\n",
    "# adding a column to identify the dataset\n",
    "l1['month'] = \"January\"\n",
    "\n",
    "l7 = temp_l7.loc[:, keep_vars]\n",
    "l7['month'] = \"July\"\n",
    "\n",
    "l1.info()"
   ]
  },
  {
   "cell_type": "markdown",
   "id": "e979a4e6",
   "metadata": {},
   "source": [
    "## Merging datasets (append)\n"
   ]
  },
  {
   "cell_type": "code",
   "execution_count": 149,
   "id": "8fe130e4",
   "metadata": {},
   "outputs": [
    {
     "name": "stdout",
     "output_type": "stream",
     "text": [
      "               property_type        room_type  accommodates  bathrooms  \\\n",
      "0           Entire apartment  Entire home/apt             4        NaN   \n",
      "1  Private room in apartment     Private room             2        NaN   \n",
      "2           Entire apartment  Entire home/apt             2        NaN   \n",
      "3           Entire apartment  Entire home/apt             6        NaN   \n",
      "4  Private room in townhouse     Private room             2        NaN   \n",
      "\n",
      "   bedrooms  beds                                          amenities    price  \\\n",
      "0       1.0   3.0  [\"Essentials\", \"Fire extinguisher\", \"Dedicated...   $89.00   \n",
      "1       1.0   0.0  [\"Essentials\", \"Bathtub\", \"Fire extinguisher\",...   $40.00   \n",
      "2       1.0   1.0  [\"Essentials\", \"Fire extinguisher\", \"Dedicated...   $75.00   \n",
      "3       3.0   3.0  [\"Essentials\", \"Dedicated workspace\", \"Wifi\", ...  $307.00   \n",
      "4       1.0   1.0  [\"Heating\", \"Smoke alarm\", \"Carbon monoxide al...  $150.00   \n",
      "\n",
      "   minimum_nights  maximum_nights  ... review_scores_checkin  \\\n",
      "0               2            1125  ...                  10.0   \n",
      "1               1              29  ...                  10.0   \n",
      "2              10              50  ...                  10.0   \n",
      "3               4             365  ...                   9.0   \n",
      "4               3              21  ...                   NaN   \n",
      "\n",
      "   review_scores_communication  review_scores_location  review_scores_value  \\\n",
      "0                         10.0                     9.0                  9.0   \n",
      "1                         10.0                     9.0                  9.0   \n",
      "2                         10.0                    10.0                  9.0   \n",
      "3                          9.0                    10.0                  9.0   \n",
      "4                          NaN                     NaN                  NaN   \n",
      "\n",
      "   calculated_host_listings_count  \\\n",
      "0                               3   \n",
      "1                               2   \n",
      "2                               1   \n",
      "3                              15   \n",
      "4                               2   \n",
      "\n",
      "   calculated_host_listings_count_entire_homes  \\\n",
      "0                                            3   \n",
      "1                                            1   \n",
      "2                                            1   \n",
      "3                                           15   \n",
      "4                                            0   \n",
      "\n",
      "   calculated_host_listings_count_private_rooms  \\\n",
      "0                                             0   \n",
      "1                                             1   \n",
      "2                                             0   \n",
      "3                                             0   \n",
      "4                                             2   \n",
      "\n",
      "   calculated_host_listings_count_shared_rooms  reviews_per_month    month  \n",
      "0                                            0               1.46  January  \n",
      "1                                            0               0.17  January  \n",
      "2                                            0               0.66  January  \n",
      "3                                            0               0.35  January  \n",
      "4                                            0                NaN  January  \n",
      "\n",
      "[5 rows x 23 columns]\n",
      "                property_type        room_type  accommodates  bathrooms  \\\n",
      "150705       Entire apartment  Entire home/apt             6        NaN   \n",
      "150706       Entire apartment  Entire home/apt             4        NaN   \n",
      "150707       Entire apartment  Entire home/apt             2        NaN   \n",
      "150708       Entire apartment  Entire home/apt             2        NaN   \n",
      "150709  Private room in house     Private room             1        NaN   \n",
      "\n",
      "        bedrooms  beds                                          amenities  \\\n",
      "150705       3.0   3.0  [\"Carbon monoxide alarm\", \"Kitchen\", \"Washer\",...   \n",
      "150706       2.0   2.0  [\"Dryer\", \"Hot water\", \"Clothing storage\", \"Ha...   \n",
      "150707       1.0   0.0  [\"Kitchen\", \"Washer\", \"Wifi\", \"Hot water\", \"Es...   \n",
      "150708       1.0   0.0  [\"Kitchen\", \"Washer\", \"Wifi\", \"Hot water\", \"Es...   \n",
      "150709       1.0   NaN  [\"Carbon monoxide alarm\", \"Kitchen\", \"Dedicate...   \n",
      "\n",
      "          price  minimum_nights  maximum_nights  ... review_scores_checkin  \\\n",
      "150705  $276.00              30              90  ...                   NaN   \n",
      "150706  $117.00               2              30  ...                   NaN   \n",
      "150707   $48.00               1              10  ...                   NaN   \n",
      "150708   $56.00               1            1125  ...                   NaN   \n",
      "150709   $32.00              15            1125  ...                   NaN   \n",
      "\n",
      "        review_scores_communication  review_scores_location  \\\n",
      "150705                          NaN                     NaN   \n",
      "150706                          NaN                     NaN   \n",
      "150707                          NaN                     NaN   \n",
      "150708                          NaN                     NaN   \n",
      "150709                          NaN                     NaN   \n",
      "\n",
      "        review_scores_value  calculated_host_listings_count  \\\n",
      "150705                  NaN                               9   \n",
      "150706                  NaN                               5   \n",
      "150707                  NaN                               2   \n",
      "150708                  NaN                               2   \n",
      "150709                  NaN                              10   \n",
      "\n",
      "        calculated_host_listings_count_entire_homes  \\\n",
      "150705                                            8   \n",
      "150706                                            5   \n",
      "150707                                            2   \n",
      "150708                                            2   \n",
      "150709                                            0   \n",
      "\n",
      "        calculated_host_listings_count_private_rooms  \\\n",
      "150705                                             1   \n",
      "150706                                             0   \n",
      "150707                                             0   \n",
      "150708                                             0   \n",
      "150709                                            10   \n",
      "\n",
      "        calculated_host_listings_count_shared_rooms  reviews_per_month  month  \n",
      "150705                                            0                NaN   July  \n",
      "150706                                            0                NaN   July  \n",
      "150707                                            0                NaN   July  \n",
      "150708                                            0                NaN   July  \n",
      "150709                                            0                NaN   July  \n",
      "\n",
      "[5 rows x 23 columns]\n"
     ]
    }
   ],
   "source": [
    "# Leap of faith here that the columns are of the same type in all datasets. Probably need to check this.\n",
    "\n",
    "df = l1.append(l7, ignore_index=True)\n",
    "print(df.head(5))\n",
    "print(df.tail(5))"
   ]
  },
  {
   "cell_type": "code",
   "execution_count": 150,
   "id": "2272180b",
   "metadata": {},
   "outputs": [
    {
     "name": "stdout",
     "output_type": "stream",
     "text": [
      "The final data frame has 150710 rows and 23 columns.\n"
     ]
    }
   ],
   "source": [
    "# Shape of final df\n",
    "\n",
    "print(f\"The final data frame has {df.shape[0]} rows and {df.shape[1]} columns.\")"
   ]
  },
  {
   "cell_type": "code",
   "execution_count": null,
   "id": "6c7078fb",
   "metadata": {},
   "outputs": [],
   "source": []
  },
  {
   "cell_type": "code",
   "execution_count": null,
   "id": "a6f3c985",
   "metadata": {},
   "outputs": [],
   "source": []
  },
  {
   "cell_type": "code",
   "execution_count": null,
   "id": "0190f9cc",
   "metadata": {},
   "outputs": [],
   "source": []
  },
  {
   "cell_type": "markdown",
   "id": "bb827f1e",
   "metadata": {},
   "source": [
    "## Exploring missing data in the combined df"
   ]
  },
  {
   "cell_type": "code",
   "execution_count": 157,
   "id": "b7c9a2e7",
   "metadata": {},
   "outputs": [
    {
     "name": "stdout",
     "output_type": "stream",
     "text": [
      " Missing values in columns ['bathrooms', 'bedrooms', 'beds', 'review_scores_accuracy', 'review_scores_cleanliness', 'review_scores_checkin', 'review_scores_communication', 'review_scores_location', 'review_scores_value', 'reviews_per_month']\n"
     ]
    }
   ],
   "source": [
    "#Columns with missing values:\n",
    "# saving to list for later use\n",
    "cols_w_missing = list(df.columns[df.isnull().any()])\n",
    "\n",
    "print(f\" Missing values in columns {cols_w_missing}\")\n",
    "\n",
    "# Would be nice to know how to make this look better."
   ]
  },
  {
   "cell_type": "code",
   "execution_count": null,
   "id": "25967df7",
   "metadata": {},
   "outputs": [],
   "source": []
  },
  {
   "cell_type": "code",
   "execution_count": 161,
   "id": "5ebf54c7",
   "metadata": {},
   "outputs": [
    {
     "name": "stdout",
     "output_type": "stream",
     "text": [
      "bathrooms                      150710\n",
      "bedrooms                         9540\n",
      "beds                             2402\n",
      "review_scores_accuracy          48439\n",
      "review_scores_cleanliness       48419\n",
      "review_scores_checkin           48528\n",
      "review_scores_communication     48441\n",
      "review_scores_location          48529\n",
      "review_scores_value             48534\n",
      "reviews_per_month               45018\n",
      "dtype: int64\n"
     ]
    }
   ],
   "source": [
    "#How many missing values?\n",
    "\n",
    "print(df[cols_w_missing].isnull().sum())"
   ]
  },
  {
   "cell_type": "markdown",
   "id": "11d07cd0",
   "metadata": {},
   "source": [
    "Why so many missings in bathroom?"
   ]
  },
  {
   "cell_type": "code",
   "execution_count": null,
   "id": "78f0b7cb",
   "metadata": {},
   "outputs": [],
   "source": []
  },
  {
   "cell_type": "code",
   "execution_count": null,
   "id": "55822712",
   "metadata": {},
   "outputs": [],
   "source": []
  },
  {
   "cell_type": "code",
   "execution_count": null,
   "id": "4dd9a2ea",
   "metadata": {},
   "outputs": [],
   "source": []
  },
  {
   "cell_type": "code",
   "execution_count": null,
   "id": "e7e89580",
   "metadata": {},
   "outputs": [],
   "source": []
  },
  {
   "cell_type": "markdown",
   "id": "33e8ef83",
   "metadata": {},
   "source": [
    "## Checking data types and recoding column values for analysis"
   ]
  },
  {
   "cell_type": "code",
   "execution_count": null,
   "id": "1afad363",
   "metadata": {},
   "outputs": [],
   "source": [
    "# Checking data types\n",
    "df.dtypes\n",
    "\n",
    "# Some 'object' types"
   ]
  },
  {
   "cell_type": "code",
   "execution_count": 95,
   "id": "c4ad65bc",
   "metadata": {},
   "outputs": [
    {
     "data": {
      "text/plain": [
       "0        Entire home/apt\n",
       "1           Private room\n",
       "2        Entire home/apt\n",
       "3        Entire home/apt\n",
       "4           Private room\n",
       "              ...       \n",
       "77341    Entire home/apt\n",
       "77342    Entire home/apt\n",
       "77343       Private room\n",
       "77344    Entire home/apt\n",
       "77345    Entire home/apt\n",
       "Name: room_type, Length: 77346, dtype: object"
      ]
     },
     "execution_count": 95,
     "metadata": {},
     "output_type": "execute_result"
    }
   ],
   "source": [
    "# looking at these more closely\n",
    "df['property_type']\n",
    "# --> needs to be recoded (categorical var)"
   ]
  },
  {
   "cell_type": "code",
   "execution_count": null,
   "id": "81ecedcf",
   "metadata": {},
   "outputs": [],
   "source": [
    "df['room_type']"
   ]
  },
  {
   "cell_type": "code",
   "execution_count": null,
   "id": "0ec3f610",
   "metadata": {},
   "outputs": [],
   "source": [
    "df['amenities']"
   ]
  },
  {
   "cell_type": "code",
   "execution_count": null,
   "id": "d4661d8d",
   "metadata": {},
   "outputs": [],
   "source": []
  },
  {
   "cell_type": "markdown",
   "id": "6bc4c155",
   "metadata": {},
   "source": [
    "# Creating dataframe / variable of lockdown measures\n"
   ]
  },
  {
   "cell_type": "markdown",
   "id": "24f3c3ea",
   "metadata": {},
   "source": [
    "# Summary stats - later"
   ]
  },
  {
   "cell_type": "code",
   "execution_count": null,
   "id": "a4a69450",
   "metadata": {},
   "outputs": [],
   "source": []
  },
  {
   "cell_type": "markdown",
   "id": "89650874",
   "metadata": {},
   "source": [
    "# Graphs\n",
    "All of these against the severity of lockdown measures [how to represent this in the graph?]\n",
    "(1) Stacked bar charts for type of listing\n",
    "(2) Line graph for number of listings\n",
    "(3) Line graph of mean (?) price with standard deviations as shaded areas: https://stackoverflow.com/questions/12957582/plot-yerr-xerr-as-shaded-region-rather-than-error-bars"
   ]
  },
  {
   "cell_type": "markdown",
   "id": "c79eeb39",
   "metadata": {},
   "source": [
    "## Graph 1"
   ]
  },
  {
   "cell_type": "code",
   "execution_count": null,
   "id": "f5a1bfad",
   "metadata": {},
   "outputs": [],
   "source": []
  },
  {
   "cell_type": "markdown",
   "id": "301b8147",
   "metadata": {},
   "source": [
    "## Graph 2"
   ]
  },
  {
   "cell_type": "code",
   "execution_count": null,
   "id": "6134239c",
   "metadata": {},
   "outputs": [],
   "source": []
  },
  {
   "cell_type": "markdown",
   "id": "b469d6ae",
   "metadata": {},
   "source": [
    "## Graph 3"
   ]
  },
  {
   "cell_type": "code",
   "execution_count": null,
   "id": "e46f4cb1",
   "metadata": {},
   "outputs": [],
   "source": []
  },
  {
   "cell_type": "markdown",
   "id": "af88cc8d",
   "metadata": {},
   "source": [
    "# Conclusions\n",
    "- Can we see any patterns at all?\n",
    "- Correlation at best -> caution when interpreting."
   ]
  }
 ],
 "metadata": {
  "kernelspec": {
   "display_name": "Python 3 (ipykernel)",
   "language": "python",
   "name": "python3"
  },
  "language_info": {
   "codemirror_mode": {
    "name": "ipython",
    "version": 3
   },
   "file_extension": ".py",
   "mimetype": "text/x-python",
   "name": "python",
   "nbconvert_exporter": "python",
   "pygments_lexer": "ipython3",
   "version": "3.8.12"
  }
 },
 "nbformat": 4,
 "nbformat_minor": 5
}
